{
 "cells": [
  {
   "cell_type": "markdown",
   "id": "fe02ff5c",
   "metadata": {},
   "source": [
    "# Отток клиентов"
   ]
  },
  {
   "cell_type": "markdown",
   "id": "3a74aa27",
   "metadata": {},
   "source": [
    "Из «Бета-Банка» стали уходить клиенты. Каждый месяц. Немного, но заметно. Банковские маркетологи посчитали: сохранять текущих клиентов дешевле, чем привлекать новых.\n",
    "\n",
    "Нужно спрогнозировать, уйдёт клиент из банка в ближайшее время или нет. Вам предоставлены исторические данные о поведении клиентов и расторжении договоров с банком. \n",
    "\n",
    "Постройте модель с предельно большим значением *F1*-меры. Чтобы сдать проект успешно, нужно довести метрику до 0.59. Проверьте *F1*-меру на тестовой выборке самостоятельно.\n",
    "\n",
    "Дополнительно измеряйте *AUC-ROC*, сравнивайте её значение с *F1*-мерой.\n",
    "\n",
    "Источник данных: [https://www.kaggle.com/barelydedicated/bank-customer-churn-modeling](https://www.kaggle.com/barelydedicated/bank-customer-churn-modeling)"
   ]
  },
  {
   "cell_type": "markdown",
   "id": "50f9c9aa",
   "metadata": {},
   "source": [
    "## Подготовка данных"
   ]
  },
  {
   "cell_type": "code",
   "execution_count": 1,
   "id": "32d14bba",
   "metadata": {},
   "outputs": [],
   "source": [
    "import pandas as pd\n",
    "from sklearn.model_selection import train_test_split\n",
    "from sklearn.preprocessing import StandardScaler\n",
    "from sklearn.tree import DecisionTreeClassifier\n",
    "from sklearn.ensemble import RandomForestClassifier \n",
    "from sklearn.linear_model import LogisticRegression\n",
    "from sklearn.metrics import f1_score\n",
    "from sklearn.metrics import roc_auc_score\n",
    "from sklearn.model_selection import GridSearchCV\n",
    "from sklearn.utils import shuffle\n",
    "from sklearn.metrics import accuracy_score\n",
    "import warnings\n",
    "warnings.filterwarnings(\"ignore\")"
   ]
  },
  {
   "cell_type": "code",
   "execution_count": 2,
   "id": "1d1cbc86",
   "metadata": {},
   "outputs": [],
   "source": [
    "df = pd.read_csv('Churn.csv')"
   ]
  },
  {
   "cell_type": "code",
   "execution_count": 3,
   "id": "03c4318a",
   "metadata": {},
   "outputs": [
    {
     "data": {
      "text/html": [
       "<div>\n",
       "<style scoped>\n",
       "    .dataframe tbody tr th:only-of-type {\n",
       "        vertical-align: middle;\n",
       "    }\n",
       "\n",
       "    .dataframe tbody tr th {\n",
       "        vertical-align: top;\n",
       "    }\n",
       "\n",
       "    .dataframe thead th {\n",
       "        text-align: right;\n",
       "    }\n",
       "</style>\n",
       "<table border=\"1\" class=\"dataframe\">\n",
       "  <thead>\n",
       "    <tr style=\"text-align: right;\">\n",
       "      <th></th>\n",
       "      <th>RowNumber</th>\n",
       "      <th>CustomerId</th>\n",
       "      <th>Surname</th>\n",
       "      <th>CreditScore</th>\n",
       "      <th>Geography</th>\n",
       "      <th>Gender</th>\n",
       "      <th>Age</th>\n",
       "      <th>Tenure</th>\n",
       "      <th>Balance</th>\n",
       "      <th>NumOfProducts</th>\n",
       "      <th>HasCrCard</th>\n",
       "      <th>IsActiveMember</th>\n",
       "      <th>EstimatedSalary</th>\n",
       "      <th>Exited</th>\n",
       "    </tr>\n",
       "  </thead>\n",
       "  <tbody>\n",
       "    <tr>\n",
       "      <th>0</th>\n",
       "      <td>1</td>\n",
       "      <td>15634602</td>\n",
       "      <td>Hargrave</td>\n",
       "      <td>619</td>\n",
       "      <td>France</td>\n",
       "      <td>Female</td>\n",
       "      <td>42</td>\n",
       "      <td>2.0</td>\n",
       "      <td>0.00</td>\n",
       "      <td>1</td>\n",
       "      <td>1</td>\n",
       "      <td>1</td>\n",
       "      <td>101348.88</td>\n",
       "      <td>1</td>\n",
       "    </tr>\n",
       "    <tr>\n",
       "      <th>1</th>\n",
       "      <td>2</td>\n",
       "      <td>15647311</td>\n",
       "      <td>Hill</td>\n",
       "      <td>608</td>\n",
       "      <td>Spain</td>\n",
       "      <td>Female</td>\n",
       "      <td>41</td>\n",
       "      <td>1.0</td>\n",
       "      <td>83807.86</td>\n",
       "      <td>1</td>\n",
       "      <td>0</td>\n",
       "      <td>1</td>\n",
       "      <td>112542.58</td>\n",
       "      <td>0</td>\n",
       "    </tr>\n",
       "    <tr>\n",
       "      <th>2</th>\n",
       "      <td>3</td>\n",
       "      <td>15619304</td>\n",
       "      <td>Onio</td>\n",
       "      <td>502</td>\n",
       "      <td>France</td>\n",
       "      <td>Female</td>\n",
       "      <td>42</td>\n",
       "      <td>8.0</td>\n",
       "      <td>159660.80</td>\n",
       "      <td>3</td>\n",
       "      <td>1</td>\n",
       "      <td>0</td>\n",
       "      <td>113931.57</td>\n",
       "      <td>1</td>\n",
       "    </tr>\n",
       "    <tr>\n",
       "      <th>3</th>\n",
       "      <td>4</td>\n",
       "      <td>15701354</td>\n",
       "      <td>Boni</td>\n",
       "      <td>699</td>\n",
       "      <td>France</td>\n",
       "      <td>Female</td>\n",
       "      <td>39</td>\n",
       "      <td>1.0</td>\n",
       "      <td>0.00</td>\n",
       "      <td>2</td>\n",
       "      <td>0</td>\n",
       "      <td>0</td>\n",
       "      <td>93826.63</td>\n",
       "      <td>0</td>\n",
       "    </tr>\n",
       "    <tr>\n",
       "      <th>4</th>\n",
       "      <td>5</td>\n",
       "      <td>15737888</td>\n",
       "      <td>Mitchell</td>\n",
       "      <td>850</td>\n",
       "      <td>Spain</td>\n",
       "      <td>Female</td>\n",
       "      <td>43</td>\n",
       "      <td>2.0</td>\n",
       "      <td>125510.82</td>\n",
       "      <td>1</td>\n",
       "      <td>1</td>\n",
       "      <td>1</td>\n",
       "      <td>79084.10</td>\n",
       "      <td>0</td>\n",
       "    </tr>\n",
       "  </tbody>\n",
       "</table>\n",
       "</div>"
      ],
      "text/plain": [
       "   RowNumber  CustomerId   Surname  CreditScore Geography  Gender  Age  \\\n",
       "0          1    15634602  Hargrave          619    France  Female   42   \n",
       "1          2    15647311      Hill          608     Spain  Female   41   \n",
       "2          3    15619304      Onio          502    France  Female   42   \n",
       "3          4    15701354      Boni          699    France  Female   39   \n",
       "4          5    15737888  Mitchell          850     Spain  Female   43   \n",
       "\n",
       "   Tenure    Balance  NumOfProducts  HasCrCard  IsActiveMember  \\\n",
       "0     2.0       0.00              1          1               1   \n",
       "1     1.0   83807.86              1          0               1   \n",
       "2     8.0  159660.80              3          1               0   \n",
       "3     1.0       0.00              2          0               0   \n",
       "4     2.0  125510.82              1          1               1   \n",
       "\n",
       "   EstimatedSalary  Exited  \n",
       "0        101348.88       1  \n",
       "1        112542.58       0  \n",
       "2        113931.57       1  \n",
       "3         93826.63       0  \n",
       "4         79084.10       0  "
      ]
     },
     "execution_count": 3,
     "metadata": {},
     "output_type": "execute_result"
    }
   ],
   "source": [
    "df.head(5)"
   ]
  },
  {
   "cell_type": "code",
   "execution_count": 4,
   "id": "b046c59c",
   "metadata": {},
   "outputs": [
    {
     "name": "stdout",
     "output_type": "stream",
     "text": [
      "<class 'pandas.core.frame.DataFrame'>\n",
      "RangeIndex: 10000 entries, 0 to 9999\n",
      "Data columns (total 14 columns):\n",
      " #   Column           Non-Null Count  Dtype  \n",
      "---  ------           --------------  -----  \n",
      " 0   RowNumber        10000 non-null  int64  \n",
      " 1   CustomerId       10000 non-null  int64  \n",
      " 2   Surname          10000 non-null  object \n",
      " 3   CreditScore      10000 non-null  int64  \n",
      " 4   Geography        10000 non-null  object \n",
      " 5   Gender           10000 non-null  object \n",
      " 6   Age              10000 non-null  int64  \n",
      " 7   Tenure           9091 non-null   float64\n",
      " 8   Balance          10000 non-null  float64\n",
      " 9   NumOfProducts    10000 non-null  int64  \n",
      " 10  HasCrCard        10000 non-null  int64  \n",
      " 11  IsActiveMember   10000 non-null  int64  \n",
      " 12  EstimatedSalary  10000 non-null  float64\n",
      " 13  Exited           10000 non-null  int64  \n",
      "dtypes: float64(3), int64(8), object(3)\n",
      "memory usage: 1.1+ MB\n"
     ]
    }
   ],
   "source": [
    "df.info()"
   ]
  },
  {
   "cell_type": "markdown",
   "id": "02944abf",
   "metadata": {},
   "source": [
    "В нашем распоряжении датасет, состоящий из 10000 строк и 14 столбцов."
   ]
  },
  {
   "cell_type": "markdown",
   "id": "5300f933",
   "metadata": {},
   "source": [
    "В столбце Tenure имеются пропуски, причина пропусков неизвестна. Заменим пропуски на медианное значение."
   ]
  },
  {
   "cell_type": "code",
   "execution_count": 5,
   "id": "6f42d0ea",
   "metadata": {},
   "outputs": [],
   "source": [
    "df['Tenure'] = df['Tenure'].fillna(df['Tenure'].median())"
   ]
  },
  {
   "cell_type": "markdown",
   "id": "4cbe0907",
   "metadata": {},
   "source": [
    "Столбцы RowNumber, CustomerId и Surname нужно удалить, так как эти данные не влияют на отток клиентов из банка."
   ]
  },
  {
   "cell_type": "code",
   "execution_count": 6,
   "id": "52f7da04",
   "metadata": {},
   "outputs": [],
   "source": [
    "df.drop([\"RowNumber\", \"CustomerId\", \"Surname\"], axis=1, inplace=True)"
   ]
  },
  {
   "cell_type": "markdown",
   "id": "545d71b9",
   "metadata": {},
   "source": [
    "Посмтрим, признаки каких типов хранятся в датафрейме"
   ]
  },
  {
   "cell_type": "code",
   "execution_count": 7,
   "id": "8e95e2bb",
   "metadata": {},
   "outputs": [
    {
     "data": {
      "text/plain": [
       "CreditScore          int64\n",
       "Geography           object\n",
       "Gender              object\n",
       "Age                  int64\n",
       "Tenure             float64\n",
       "Balance            float64\n",
       "NumOfProducts        int64\n",
       "HasCrCard            int64\n",
       "IsActiveMember       int64\n",
       "EstimatedSalary    float64\n",
       "Exited               int64\n",
       "dtype: object"
      ]
     },
     "execution_count": 7,
     "metadata": {},
     "output_type": "execute_result"
    }
   ],
   "source": [
    "df.dtypes"
   ]
  },
  {
   "cell_type": "markdown",
   "id": "e5b951e4",
   "metadata": {},
   "source": [
    "Преобразуем категориальные признаки (Geography и Gender) в численные техникой прямого кодирования (OHE), избегая дамми-ловушки."
   ]
  },
  {
   "cell_type": "code",
   "execution_count": 8,
   "id": "8b90b5b0",
   "metadata": {},
   "outputs": [
    {
     "data": {
      "text/html": [
       "<div>\n",
       "<style scoped>\n",
       "    .dataframe tbody tr th:only-of-type {\n",
       "        vertical-align: middle;\n",
       "    }\n",
       "\n",
       "    .dataframe tbody tr th {\n",
       "        vertical-align: top;\n",
       "    }\n",
       "\n",
       "    .dataframe thead th {\n",
       "        text-align: right;\n",
       "    }\n",
       "</style>\n",
       "<table border=\"1\" class=\"dataframe\">\n",
       "  <thead>\n",
       "    <tr style=\"text-align: right;\">\n",
       "      <th></th>\n",
       "      <th>CreditScore</th>\n",
       "      <th>Age</th>\n",
       "      <th>Tenure</th>\n",
       "      <th>Balance</th>\n",
       "      <th>NumOfProducts</th>\n",
       "      <th>HasCrCard</th>\n",
       "      <th>IsActiveMember</th>\n",
       "      <th>EstimatedSalary</th>\n",
       "      <th>Exited</th>\n",
       "      <th>Geography_Germany</th>\n",
       "      <th>Geography_Spain</th>\n",
       "      <th>Gender_Male</th>\n",
       "    </tr>\n",
       "  </thead>\n",
       "  <tbody>\n",
       "    <tr>\n",
       "      <th>0</th>\n",
       "      <td>619</td>\n",
       "      <td>42</td>\n",
       "      <td>2.0</td>\n",
       "      <td>0.00</td>\n",
       "      <td>1</td>\n",
       "      <td>1</td>\n",
       "      <td>1</td>\n",
       "      <td>101348.88</td>\n",
       "      <td>1</td>\n",
       "      <td>0</td>\n",
       "      <td>0</td>\n",
       "      <td>0</td>\n",
       "    </tr>\n",
       "    <tr>\n",
       "      <th>1</th>\n",
       "      <td>608</td>\n",
       "      <td>41</td>\n",
       "      <td>1.0</td>\n",
       "      <td>83807.86</td>\n",
       "      <td>1</td>\n",
       "      <td>0</td>\n",
       "      <td>1</td>\n",
       "      <td>112542.58</td>\n",
       "      <td>0</td>\n",
       "      <td>0</td>\n",
       "      <td>1</td>\n",
       "      <td>0</td>\n",
       "    </tr>\n",
       "    <tr>\n",
       "      <th>2</th>\n",
       "      <td>502</td>\n",
       "      <td>42</td>\n",
       "      <td>8.0</td>\n",
       "      <td>159660.80</td>\n",
       "      <td>3</td>\n",
       "      <td>1</td>\n",
       "      <td>0</td>\n",
       "      <td>113931.57</td>\n",
       "      <td>1</td>\n",
       "      <td>0</td>\n",
       "      <td>0</td>\n",
       "      <td>0</td>\n",
       "    </tr>\n",
       "    <tr>\n",
       "      <th>3</th>\n",
       "      <td>699</td>\n",
       "      <td>39</td>\n",
       "      <td>1.0</td>\n",
       "      <td>0.00</td>\n",
       "      <td>2</td>\n",
       "      <td>0</td>\n",
       "      <td>0</td>\n",
       "      <td>93826.63</td>\n",
       "      <td>0</td>\n",
       "      <td>0</td>\n",
       "      <td>0</td>\n",
       "      <td>0</td>\n",
       "    </tr>\n",
       "    <tr>\n",
       "      <th>4</th>\n",
       "      <td>850</td>\n",
       "      <td>43</td>\n",
       "      <td>2.0</td>\n",
       "      <td>125510.82</td>\n",
       "      <td>1</td>\n",
       "      <td>1</td>\n",
       "      <td>1</td>\n",
       "      <td>79084.10</td>\n",
       "      <td>0</td>\n",
       "      <td>0</td>\n",
       "      <td>1</td>\n",
       "      <td>0</td>\n",
       "    </tr>\n",
       "    <tr>\n",
       "      <th>...</th>\n",
       "      <td>...</td>\n",
       "      <td>...</td>\n",
       "      <td>...</td>\n",
       "      <td>...</td>\n",
       "      <td>...</td>\n",
       "      <td>...</td>\n",
       "      <td>...</td>\n",
       "      <td>...</td>\n",
       "      <td>...</td>\n",
       "      <td>...</td>\n",
       "      <td>...</td>\n",
       "      <td>...</td>\n",
       "    </tr>\n",
       "    <tr>\n",
       "      <th>9995</th>\n",
       "      <td>771</td>\n",
       "      <td>39</td>\n",
       "      <td>5.0</td>\n",
       "      <td>0.00</td>\n",
       "      <td>2</td>\n",
       "      <td>1</td>\n",
       "      <td>0</td>\n",
       "      <td>96270.64</td>\n",
       "      <td>0</td>\n",
       "      <td>0</td>\n",
       "      <td>0</td>\n",
       "      <td>1</td>\n",
       "    </tr>\n",
       "    <tr>\n",
       "      <th>9996</th>\n",
       "      <td>516</td>\n",
       "      <td>35</td>\n",
       "      <td>10.0</td>\n",
       "      <td>57369.61</td>\n",
       "      <td>1</td>\n",
       "      <td>1</td>\n",
       "      <td>1</td>\n",
       "      <td>101699.77</td>\n",
       "      <td>0</td>\n",
       "      <td>0</td>\n",
       "      <td>0</td>\n",
       "      <td>1</td>\n",
       "    </tr>\n",
       "    <tr>\n",
       "      <th>9997</th>\n",
       "      <td>709</td>\n",
       "      <td>36</td>\n",
       "      <td>7.0</td>\n",
       "      <td>0.00</td>\n",
       "      <td>1</td>\n",
       "      <td>0</td>\n",
       "      <td>1</td>\n",
       "      <td>42085.58</td>\n",
       "      <td>1</td>\n",
       "      <td>0</td>\n",
       "      <td>0</td>\n",
       "      <td>0</td>\n",
       "    </tr>\n",
       "    <tr>\n",
       "      <th>9998</th>\n",
       "      <td>772</td>\n",
       "      <td>42</td>\n",
       "      <td>3.0</td>\n",
       "      <td>75075.31</td>\n",
       "      <td>2</td>\n",
       "      <td>1</td>\n",
       "      <td>0</td>\n",
       "      <td>92888.52</td>\n",
       "      <td>1</td>\n",
       "      <td>1</td>\n",
       "      <td>0</td>\n",
       "      <td>1</td>\n",
       "    </tr>\n",
       "    <tr>\n",
       "      <th>9999</th>\n",
       "      <td>792</td>\n",
       "      <td>28</td>\n",
       "      <td>5.0</td>\n",
       "      <td>130142.79</td>\n",
       "      <td>1</td>\n",
       "      <td>1</td>\n",
       "      <td>0</td>\n",
       "      <td>38190.78</td>\n",
       "      <td>0</td>\n",
       "      <td>0</td>\n",
       "      <td>0</td>\n",
       "      <td>0</td>\n",
       "    </tr>\n",
       "  </tbody>\n",
       "</table>\n",
       "<p>10000 rows × 12 columns</p>\n",
       "</div>"
      ],
      "text/plain": [
       "      CreditScore  Age  Tenure    Balance  NumOfProducts  HasCrCard  \\\n",
       "0             619   42     2.0       0.00              1          1   \n",
       "1             608   41     1.0   83807.86              1          0   \n",
       "2             502   42     8.0  159660.80              3          1   \n",
       "3             699   39     1.0       0.00              2          0   \n",
       "4             850   43     2.0  125510.82              1          1   \n",
       "...           ...  ...     ...        ...            ...        ...   \n",
       "9995          771   39     5.0       0.00              2          1   \n",
       "9996          516   35    10.0   57369.61              1          1   \n",
       "9997          709   36     7.0       0.00              1          0   \n",
       "9998          772   42     3.0   75075.31              2          1   \n",
       "9999          792   28     5.0  130142.79              1          1   \n",
       "\n",
       "      IsActiveMember  EstimatedSalary  Exited  Geography_Germany  \\\n",
       "0                  1        101348.88       1                  0   \n",
       "1                  1        112542.58       0                  0   \n",
       "2                  0        113931.57       1                  0   \n",
       "3                  0         93826.63       0                  0   \n",
       "4                  1         79084.10       0                  0   \n",
       "...              ...              ...     ...                ...   \n",
       "9995               0         96270.64       0                  0   \n",
       "9996               1        101699.77       0                  0   \n",
       "9997               1         42085.58       1                  0   \n",
       "9998               0         92888.52       1                  1   \n",
       "9999               0         38190.78       0                  0   \n",
       "\n",
       "      Geography_Spain  Gender_Male  \n",
       "0                   0            0  \n",
       "1                   1            0  \n",
       "2                   0            0  \n",
       "3                   0            0  \n",
       "4                   1            0  \n",
       "...               ...          ...  \n",
       "9995                0            1  \n",
       "9996                0            1  \n",
       "9997                0            0  \n",
       "9998                0            1  \n",
       "9999                0            0  \n",
       "\n",
       "[10000 rows x 12 columns]"
      ]
     },
     "execution_count": 8,
     "metadata": {},
     "output_type": "execute_result"
    }
   ],
   "source": [
    "df_ohe = pd.get_dummies(df, drop_first=True)\n",
    "df_ohe"
   ]
  },
  {
   "cell_type": "markdown",
   "id": "3d766e8b",
   "metadata": {},
   "source": [
    "Спрятанной тестовой выборки нет, поэтому иммеющиеся данные нужно разбить на три части: обучающую, валидационную и тестовую. Размеры тестового и валидационного наборов обычно равны. Исходные данные разобъём в соотношении 3:1:1 или 60%:20%:20%."
   ]
  },
  {
   "cell_type": "code",
   "execution_count": 9,
   "id": "aae39d26",
   "metadata": {},
   "outputs": [],
   "source": [
    "features = df_ohe.drop('Exited', axis=1)\n",
    "target = df_ohe['Exited']"
   ]
  },
  {
   "cell_type": "code",
   "execution_count": 10,
   "id": "ba4db787",
   "metadata": {},
   "outputs": [],
   "source": [
    "features_train, features_validtest, target_train, target_validtest = train_test_split(\n",
    "    features, target, test_size=0.4, random_state=12345)\n",
    "features_valid, features_test, target_valid, target_test = train_test_split(\n",
    "    features_validtest, target_validtest, test_size=0.5, random_state=12345)"
   ]
  },
  {
   "cell_type": "code",
   "execution_count": 11,
   "id": "812268d2",
   "metadata": {},
   "outputs": [
    {
     "name": "stdout",
     "output_type": "stream",
     "text": [
      "(6000, 11)\n",
      "(6000,)\n",
      "(2000, 11)\n",
      "(2000,)\n",
      "(2000, 11)\n",
      "(2000,)\n"
     ]
    }
   ],
   "source": [
    "print(features_train.shape) \n",
    "print(target_train.shape) \n",
    "print(features_valid.shape) \n",
    "print(target_valid.shape) \n",
    "print(features_test.shape) \n",
    "print(target_test.shape)"
   ]
  },
  {
   "cell_type": "markdown",
   "id": "f8c90441",
   "metadata": {},
   "source": [
    "Стандартизируем численные признаки. "
   ]
  },
  {
   "cell_type": "code",
   "execution_count": 12,
   "id": "751fbb77",
   "metadata": {},
   "outputs": [],
   "source": [
    "numeric = ['CreditScore', 'Age', 'Tenure', 'Balance', 'NumOfProducts', 'EstimatedSalary']"
   ]
  },
  {
   "cell_type": "code",
   "execution_count": 13,
   "id": "94c345de",
   "metadata": {},
   "outputs": [],
   "source": [
    "scaler = StandardScaler()\n",
    "scaler.fit(features_train[numeric])\n",
    "features_train[numeric] = scaler.transform(features_train[numeric])\n",
    "features_valid[numeric] = scaler.transform(features_valid[numeric])\n",
    "features_test[numeric] = scaler.transform(features_test[numeric])"
   ]
  },
  {
   "cell_type": "markdown",
   "id": "816977da",
   "metadata": {},
   "source": [
    "## Исследование задачи"
   ]
  },
  {
   "cell_type": "markdown",
   "id": "51a49055",
   "metadata": {},
   "source": [
    "Исследуем баланс классов"
   ]
  },
  {
   "cell_type": "code",
   "execution_count": 14,
   "id": "69e891b8",
   "metadata": {},
   "outputs": [
    {
     "data": {
      "text/plain": [
       "0    7963\n",
       "1    2037\n",
       "Name: Exited, dtype: int64"
      ]
     },
     "execution_count": 14,
     "metadata": {},
     "output_type": "execute_result"
    }
   ],
   "source": [
    "target.value_counts()"
   ]
  },
  {
   "cell_type": "markdown",
   "id": "3e6338d9",
   "metadata": {},
   "source": [
    "Мы видим сильный дисбаланс классов, но для начала обучим 3 модели без учета дисбаланса"
   ]
  },
  {
   "cell_type": "markdown",
   "id": "54f0aea5",
   "metadata": {},
   "source": [
    "**Decision Tree**"
   ]
  },
  {
   "cell_type": "code",
   "execution_count": 15,
   "id": "92bc8ac7",
   "metadata": {},
   "outputs": [
    {
     "name": "stdout",
     "output_type": "stream",
     "text": [
      "F1: 0.5320813771517998\n",
      "AUC-ROC: 0.6872304453813536\n"
     ]
    }
   ],
   "source": [
    "dt = DecisionTreeClassifier(random_state=12345)\n",
    "parameters = {\n",
    "    'max_depth': list(range(1, 50))\n",
    "}\n",
    "CV_dt = GridSearchCV(estimator=dt, param_grid=parameters, cv=5)\n",
    "CV_dt.fit(features_train, target_train)\n",
    "predicted_valid = CV_dt.predict(features_valid)\n",
    "\n",
    "print('F1:', f1_score(target_valid, predicted_valid))\n",
    "print('AUC-ROC:', roc_auc_score(target_valid, predicted_valid))"
   ]
  },
  {
   "cell_type": "markdown",
   "id": "6ae39de5",
   "metadata": {},
   "source": [
    "**Random Forest**"
   ]
  },
  {
   "cell_type": "code",
   "execution_count": 16,
   "id": "14efbbdb",
   "metadata": {
    "scrolled": true
   },
   "outputs": [
    {
     "name": "stdout",
     "output_type": "stream",
     "text": [
      "F1: 0.5627980922098569\n",
      "AUC-ROC: 0.7009765967614128\n"
     ]
    }
   ],
   "source": [
    "rf = RandomForestClassifier(random_state=12345)\n",
    "parameters = {\n",
    "    'n_estimators': [10, 20, 30, 40, 50],\n",
    "    'max_depth': list(range(1, 30))\n",
    "}\n",
    "CV_rf = GridSearchCV(estimator=rf, param_grid=parameters, cv=5)\n",
    "CV_rf.fit(features_train, target_train)\n",
    "predicted_valid = CV_rf.predict(features_valid)\n",
    "\n",
    "print('F1:', f1_score(target_valid, predicted_valid))\n",
    "print('AUC-ROC:', roc_auc_score(target_valid, predicted_valid))"
   ]
  },
  {
   "cell_type": "markdown",
   "id": "d48cacb1",
   "metadata": {},
   "source": [
    "**Logistic Regression**"
   ]
  },
  {
   "cell_type": "code",
   "execution_count": 17,
   "id": "07061e10",
   "metadata": {},
   "outputs": [
    {
     "name": "stdout",
     "output_type": "stream",
     "text": [
      "F1: 0.33108108108108103\n",
      "AUC-ROC: 0.5932046528227246\n"
     ]
    }
   ],
   "source": [
    "LR = LogisticRegression(random_state=12345, solver = 'lbfgs')\n",
    "LR.fit(features_train, target_train)\n",
    "predicted_valid = LR.predict(features_valid)\n",
    "\n",
    "print('F1:', f1_score(target_valid, predicted_valid))\n",
    "print('AUC-ROC:', roc_auc_score(target_valid, predicted_valid))"
   ]
  },
  {
   "cell_type": "markdown",
   "id": "73797e69",
   "metadata": {},
   "source": [
    "**Самый высокий показатель F1 оказался у модели Random forest (F1=0.56)**"
   ]
  },
  {
   "cell_type": "markdown",
   "id": "86d3637b",
   "metadata": {},
   "source": [
    "## Борьба с дисбалансом"
   ]
  },
  {
   "cell_type": "markdown",
   "id": "1f391b00",
   "metadata": {},
   "source": [
    "Для борьбы с дисбалансом мы можем воспользоваться техникой upsampling/downsampling и взвешивания классов.\n",
    "\n",
    "Проверим технику увеличения выборки."
   ]
  },
  {
   "cell_type": "code",
   "execution_count": 18,
   "id": "501a356d",
   "metadata": {},
   "outputs": [],
   "source": [
    "def upsample(features, target, repeat):\n",
    "    \n",
    "    features_zeros = features[target == 0]\n",
    "    features_ones = features[target == 1]\n",
    "    target_zeros = target[target == 0]\n",
    "    target_ones = target[target == 1]\n",
    "\n",
    "    features_upsampled = pd.concat([features_zeros] + [features_ones] * repeat)\n",
    "    target_upsampled = pd.concat([target_zeros] + [target_ones] * repeat)\n",
    "    \n",
    "    features_upsampled, target_upsampled = shuffle(features_upsampled, target_upsampled, random_state=12345)\n",
    "    \n",
    "    return features_upsampled, target_upsampled\n",
    "\n",
    "features_upsampled, target_upsampled = upsample(features_train, target_train, 4)"
   ]
  },
  {
   "cell_type": "markdown",
   "id": "9d90e0c2",
   "metadata": {},
   "source": [
    "Теперь посмотрим модели после увеличения выборки"
   ]
  },
  {
   "cell_type": "markdown",
   "id": "a22dafc3",
   "metadata": {},
   "source": [
    "**Decision Tree**"
   ]
  },
  {
   "cell_type": "code",
   "execution_count": 19,
   "id": "74278389",
   "metadata": {},
   "outputs": [
    {
     "name": "stdout",
     "output_type": "stream",
     "text": [
      "F1: 0.49033816425120774\n",
      "AUC-ROC: 0.6773994519686183\n"
     ]
    }
   ],
   "source": [
    "dt_upsampled = DecisionTreeClassifier(random_state=12345)\n",
    "parameters = {\n",
    "    'max_depth': list(range(1, 50))\n",
    "}\n",
    "CV_dt_upsampled = GridSearchCV(estimator=dt_upsampled, param_grid=parameters, cv=5)\n",
    "CV_dt_upsampled.fit(features_upsampled, target_upsampled)\n",
    "predicted_valid = CV_dt_upsampled.predict(features_valid)\n",
    "\n",
    "print('F1:', f1_score(target_valid, predicted_valid))\n",
    "print('AUC-ROC:', roc_auc_score(target_valid, predicted_valid))"
   ]
  },
  {
   "cell_type": "markdown",
   "id": "052761bd",
   "metadata": {},
   "source": [
    "**Random Forest**"
   ]
  },
  {
   "cell_type": "code",
   "execution_count": 20,
   "id": "afb94b75",
   "metadata": {},
   "outputs": [
    {
     "name": "stdout",
     "output_type": "stream",
     "text": [
      "F1: 0.5952380952380952\n",
      "AUC-ROC: 0.7334244702665755\n"
     ]
    }
   ],
   "source": [
    "rf_upsampled = RandomForestClassifier(random_state=12345)\n",
    "parameters = {\n",
    "    'n_estimators': [10, 20, 30, 40, 50, 60, 70, 80, 100, 200],\n",
    "    'max_depth': list(range(1, 30))\n",
    "}\n",
    "CV_rf_upsampled = GridSearchCV(estimator=rf_upsampled, param_grid=parameters, cv=5, n_jobs=-1)\n",
    "CV_rf_upsampled.fit(features_upsampled, target_upsampled)\n",
    "predicted_valid = CV_rf_upsampled.predict(features_valid)\n",
    "\n",
    "print('F1:', f1_score(target_valid, predicted_valid))\n",
    "print('AUC-ROC:', roc_auc_score(target_valid, predicted_valid))"
   ]
  },
  {
   "cell_type": "markdown",
   "id": "0436ae4f",
   "metadata": {},
   "source": [
    "**Logistic Regression**"
   ]
  },
  {
   "cell_type": "code",
   "execution_count": 21,
   "id": "f6e9083d",
   "metadata": {},
   "outputs": [
    {
     "name": "stdout",
     "output_type": "stream",
     "text": [
      "F1: 0.4888507718696398\n",
      "AUC-ROC: 0.6945753361682564\n"
     ]
    }
   ],
   "source": [
    "LR_upsampled = LogisticRegression(random_state=12345, solver = 'lbfgs')\n",
    "LR_upsampled.fit(features_upsampled, target_upsampled)\n",
    "predicted_valid = LR_upsampled.predict(features_valid)\n",
    "\n",
    "print('F1:', f1_score(target_valid, predicted_valid))\n",
    "print('AUC-ROC:', roc_auc_score(target_valid, predicted_valid))"
   ]
  },
  {
   "cell_type": "markdown",
   "id": "a74dac8d",
   "metadata": {},
   "source": [
    "**Максимальный F1 получился у модели Random Forest (F1=0.59)**"
   ]
  },
  {
   "cell_type": "markdown",
   "id": "7274092f",
   "metadata": {},
   "source": [
    "Попробуем downsampling"
   ]
  },
  {
   "cell_type": "code",
   "execution_count": 22,
   "id": "2b79b9fa",
   "metadata": {},
   "outputs": [],
   "source": [
    "def downsample(features, target, fraction):\n",
    "    features_zeros = features[target == 0]\n",
    "    features_ones = features[target == 1]\n",
    "    target_zeros = target[target == 0]\n",
    "    target_ones = target[target == 1]\n",
    "\n",
    "    features_downsampled = pd.concat(\n",
    "        [features_zeros.sample(frac=fraction, random_state=12345)] + [features_ones])\n",
    "    target_downsampled = pd.concat(\n",
    "        [target_zeros.sample(frac=fraction, random_state=12345)] + [target_ones])\n",
    "    \n",
    "    features_downsampled, target_downsampled = shuffle(\n",
    "        features_downsampled, target_downsampled, random_state=12345)\n",
    "    \n",
    "    return features_downsampled, target_downsampled\n",
    "\n",
    "features_downsampled, target_downsampled = downsample(features_train, target_train, 0.25)"
   ]
  },
  {
   "cell_type": "markdown",
   "id": "2142b210",
   "metadata": {},
   "source": [
    "**Decision Tree**"
   ]
  },
  {
   "cell_type": "code",
   "execution_count": 23,
   "id": "d5e9aca6",
   "metadata": {},
   "outputs": [
    {
     "name": "stdout",
     "output_type": "stream",
     "text": [
      "F1: 0.5749525616698292\n",
      "AUC-ROC: 0.7571936679994435\n"
     ]
    }
   ],
   "source": [
    "dt_downsampled = DecisionTreeClassifier(random_state=12345)\n",
    "parameters = {'max_depth': list(range(1, 50))}\n",
    "CV_dt_downsampled = GridSearchCV(estimator=dt_downsampled, param_grid=parameters, cv=5)\n",
    "CV_dt_downsampled.fit(features_downsampled, target_downsampled)\n",
    "predicted_valid = CV_dt_downsampled.predict(features_valid)\n",
    "\n",
    "print('F1:', f1_score(target_valid, predicted_valid))\n",
    "print('AUC-ROC:', roc_auc_score(target_valid, predicted_valid))"
   ]
  },
  {
   "cell_type": "markdown",
   "id": "7e254ed7",
   "metadata": {},
   "source": [
    "**Random Forest**"
   ]
  },
  {
   "cell_type": "code",
   "execution_count": 24,
   "id": "d278e2b3",
   "metadata": {},
   "outputs": [
    {
     "name": "stdout",
     "output_type": "stream",
     "text": [
      "F1: 0.5990521327014218\n",
      "AUC-ROC: 0.7765365747433749\n"
     ]
    }
   ],
   "source": [
    "rf_downsampled = RandomForestClassifier(random_state=12345)\n",
    "parameters = {\n",
    "    'n_estimators': [10, 20, 30, 40, 50, 60, 70, 80, 100, 200],\n",
    "    'max_depth': list(range(1, 30))\n",
    "}\n",
    "CV_rf_downsampled = GridSearchCV(estimator=rf_downsampled, param_grid=parameters, cv=5, n_jobs=-1)\n",
    "CV_rf_downsampled.fit(features_downsampled, target_downsampled)\n",
    "predicted_valid = CV_rf_downsampled.predict(features_valid)\n",
    "\n",
    "print('F1:', f1_score(target_valid, predicted_valid))\n",
    "print('AUC-ROC:', roc_auc_score(target_valid, predicted_valid))"
   ]
  },
  {
   "cell_type": "markdown",
   "id": "d451a420",
   "metadata": {},
   "source": [
    "**Logistic Regression**"
   ]
  },
  {
   "cell_type": "code",
   "execution_count": 25,
   "id": "631f6701",
   "metadata": {},
   "outputs": [
    {
     "name": "stdout",
     "output_type": "stream",
     "text": [
      "F1: 0.4866723989681858\n",
      "AUC-ROC: 0.6924990472964391\n"
     ]
    }
   ],
   "source": [
    "LR_downsampled = LogisticRegression(random_state=12345, solver = 'lbfgs', class_weight='balanced')\n",
    "LR_downsampled.fit(features_downsampled, target_downsampled)\n",
    "predicted_valid = LR_downsampled.predict(features_valid)\n",
    "\n",
    "print('F1:', f1_score(target_valid, predicted_valid))\n",
    "print('AUC-ROC:', roc_auc_score(target_valid, predicted_valid))"
   ]
  },
  {
   "cell_type": "markdown",
   "id": "ff68dda8",
   "metadata": {},
   "source": [
    "**После уменьшения выборки максимальный F1 снова получился у модели Random Forest (F1=0.59)**"
   ]
  },
  {
   "cell_type": "markdown",
   "id": "12a0df36",
   "metadata": {},
   "source": [
    "Теперь попробуем добавить аргумент class_weight='balanced'в Random Forest downsampled, так как у этой модели в итоге получился самый высокий F1."
   ]
  },
  {
   "cell_type": "code",
   "execution_count": 26,
   "id": "3e136561",
   "metadata": {},
   "outputs": [
    {
     "name": "stdout",
     "output_type": "stream",
     "text": [
      "F1: 0.5990521327014218\n",
      "AUC-ROC: 0.7765365747433749\n"
     ]
    }
   ],
   "source": [
    "rf_downsampled_balanced = RandomForestClassifier(random_state=12345)\n",
    "parameters = {\n",
    "    'n_estimators': [10, 20, 30, 40, 50, 60, 70, 80, 100, 200],\n",
    "    'max_depth': list(range(1, 30))\n",
    "}\n",
    "CV_rf_downsampled_balanced = GridSearchCV(estimator=rf_downsampled_balanced, param_grid=parameters, cv=5, n_jobs=-1)\n",
    "CV_rf_downsampled_balanced.fit(features_downsampled, target_downsampled)\n",
    "predicted_valid = CV_rf_downsampled_balanced.predict(features_valid)\n",
    "\n",
    "print('F1:', f1_score(target_valid, predicted_valid))\n",
    "print('AUC-ROC:', roc_auc_score(target_valid, predicted_valid))"
   ]
  },
  {
   "cell_type": "markdown",
   "id": "dee3ba4f",
   "metadata": {},
   "source": [
    "Можно еще попробовать изменить порог."
   ]
  },
  {
   "cell_type": "code",
   "execution_count": 27,
   "id": "e04bc82e",
   "metadata": {},
   "outputs": [
    {
     "data": {
      "text/html": [
       "<div>\n",
       "<style scoped>\n",
       "    .dataframe tbody tr th:only-of-type {\n",
       "        vertical-align: middle;\n",
       "    }\n",
       "\n",
       "    .dataframe tbody tr th {\n",
       "        vertical-align: top;\n",
       "    }\n",
       "\n",
       "    .dataframe thead th {\n",
       "        text-align: right;\n",
       "    }\n",
       "</style>\n",
       "<table border=\"1\" class=\"dataframe\">\n",
       "  <thead>\n",
       "    <tr style=\"text-align: right;\">\n",
       "      <th></th>\n",
       "      <th>thr</th>\n",
       "      <th>F1</th>\n",
       "    </tr>\n",
       "  </thead>\n",
       "  <tbody>\n",
       "    <tr>\n",
       "      <th>1534</th>\n",
       "      <td>0.58824</td>\n",
       "      <td>0.626697</td>\n",
       "    </tr>\n",
       "  </tbody>\n",
       "</table>\n",
       "</div>"
      ],
      "text/plain": [
       "          thr        F1\n",
       "1534  0.58824  0.626697"
      ]
     },
     "execution_count": 27,
     "metadata": {},
     "output_type": "execute_result"
    }
   ],
   "source": [
    "probabilities_valid = CV_rf_downsampled_balanced.predict_proba(features_valid)\n",
    "probabilities_one_valid = probabilities_valid[:,1]\n",
    "thrs = [0] + sorted(list(probabilities_one_valid))\n",
    "res = []\n",
    "for thr in thrs:\n",
    "    predicted_valid = (probabilities_one_valid > thr)*1\n",
    "    res.append((thr, f1_score(target_valid, predicted_valid)))\n",
    "    \n",
    "t = pd.DataFrame(res,columns=['thr','F1'])\n",
    "t[t['F1'] == t['F1'].max()]"
   ]
  },
  {
   "cell_type": "code",
   "execution_count": 28,
   "id": "4d66de72",
   "metadata": {},
   "outputs": [
    {
     "name": "stdout",
     "output_type": "stream",
     "text": [
      "F1: 0.6266968325791856\n",
      "AUC-ROC: 0.771605199644324\n"
     ]
    }
   ],
   "source": [
    "threshold = 0.58824\n",
    "\n",
    "predicted_proba = CV_rf_downsampled_balanced.predict_proba(features_valid)\n",
    "predicted = (predicted_proba [:,1] >= threshold).astype('int')\n",
    "\n",
    "print('F1:', f1_score(target_valid, predicted))\n",
    "print('AUC-ROC:', roc_auc_score(target_valid, predicted))"
   ]
  },
  {
   "cell_type": "markdown",
   "id": "e992e748",
   "metadata": {},
   "source": [
    "## Тестирование модели"
   ]
  },
  {
   "cell_type": "code",
   "execution_count": 29,
   "id": "8bdc8a33",
   "metadata": {},
   "outputs": [
    {
     "name": "stdout",
     "output_type": "stream",
     "text": [
      "F1: 0.57380073800738\n",
      "AUC-ROC: 0.7566420965684313\n"
     ]
    }
   ],
   "source": [
    "predictions_test = CV_rf_downsampled_balanced.predict(features_test)\n",
    "print('F1:', f1_score(target_test, predictions_test))\n",
    "print('AUC-ROC:', roc_auc_score(target_test, predictions_test))"
   ]
  },
  {
   "cell_type": "code",
   "execution_count": 30,
   "id": "4f05e612",
   "metadata": {},
   "outputs": [
    {
     "name": "stdout",
     "output_type": "stream",
     "text": [
      "F1: 0.5995525727069352\n",
      "AUC-ROC: 0.7524221559624087\n"
     ]
    }
   ],
   "source": [
    "threshold = 0.58824\n",
    "\n",
    "predicted_proba = CV_rf_downsampled_balanced.predict_proba(features_test)\n",
    "predicted = (predicted_proba [:,1] >= threshold).astype('int')\n",
    "\n",
    "print('F1:', f1_score(target_test, predicted))\n",
    "print('AUC-ROC:', roc_auc_score(target_test, predicted))"
   ]
  },
  {
   "cell_type": "markdown",
   "id": "b0552d34",
   "metadata": {},
   "source": [
    "Попробуем объединить валидационную и тренировочную выборку в одну обучающую, это может дать нам еще немного качества."
   ]
  },
  {
   "cell_type": "code",
   "execution_count": 31,
   "id": "73be6da9",
   "metadata": {},
   "outputs": [
    {
     "data": {
      "text/plain": [
       "GridSearchCV(cv=5, estimator=RandomForestClassifier(random_state=12345),\n",
       "             n_jobs=-1,\n",
       "             param_grid={'max_depth': [1, 2, 3, 4, 5, 6, 7, 8, 9, 10, 11, 12,\n",
       "                                       13, 14, 15, 16, 17, 18, 19, 20, 21, 22,\n",
       "                                       23, 24, 25, 26, 27, 28, 29],\n",
       "                         'n_estimators': [10, 20, 30, 40, 50, 60, 70, 80, 100,\n",
       "                                          200]})"
      ]
     },
     "execution_count": 31,
     "metadata": {},
     "output_type": "execute_result"
    }
   ],
   "source": [
    "features_train_valid = pd.concat([features_train, features_valid])\n",
    "target_train_valid = pd.concat([target_train, target_valid])\n",
    "\n",
    "CV_rf_downsampled_balanced.fit(features_train_valid, target_train_valid) "
   ]
  },
  {
   "cell_type": "code",
   "execution_count": 32,
   "id": "c5cbcde5",
   "metadata": {},
   "outputs": [
    {
     "name": "stdout",
     "output_type": "stream",
     "text": [
      "F1: 0.5248447204968943\n",
      "AUC-ROC: 0.6832765927464992\n"
     ]
    }
   ],
   "source": [
    "predictions_test2 = CV_rf_downsampled_balanced.predict(features_test)\n",
    "print('F1:', f1_score(target_test, predictions_test2))\n",
    "print('AUC-ROC:', roc_auc_score(target_test, predictions_test2))"
   ]
  },
  {
   "cell_type": "code",
   "execution_count": 33,
   "id": "b6f30fc3",
   "metadata": {},
   "outputs": [
    {
     "name": "stdout",
     "output_type": "stream",
     "text": [
      "F1: 0.5995525727069352\n",
      "AUC-ROC: 0.7524221559624087\n"
     ]
    }
   ],
   "source": [
    "threshold2 = 0.58824\n",
    "\n",
    "predicted_proba2 = CV_rf_downsampled_balanced.predict_proba(features_test)\n",
    "predicted = (predicted_proba [:,1] >= threshold2).astype('int')\n",
    "\n",
    "print('F1:', f1_score(target_test, predicted))\n",
    "print(f'AUC-ROC:', roc_auc_score(target_test, predicted))"
   ]
  },
  {
   "cell_type": "markdown",
   "id": "2caed747",
   "metadata": {},
   "source": [
    "Лучшей моделью для решения поставленной задачи оказалась модель случайного леса. Для борьбы с бисбалансом классов была использована техника downsampling. Основная цель достигнута: F1 > 0.59"
   ]
  }
 ],
 "metadata": {
  "kernelspec": {
   "display_name": "Python 3 (ipykernel)",
   "language": "python",
   "name": "python3"
  },
  "language_info": {
   "codemirror_mode": {
    "name": "ipython",
    "version": 3
   },
   "file_extension": ".py",
   "mimetype": "text/x-python",
   "name": "python",
   "nbconvert_exporter": "python",
   "pygments_lexer": "ipython3",
   "version": "3.9.13"
  }
 },
 "nbformat": 4,
 "nbformat_minor": 5
}
