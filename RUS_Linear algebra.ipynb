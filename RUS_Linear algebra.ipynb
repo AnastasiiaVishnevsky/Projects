{
 "cells": [
  {
   "cell_type": "markdown",
   "id": "3017e79f",
   "metadata": {},
   "source": [
    "# Защита персональных данных клиентов"
   ]
  },
  {
   "cell_type": "markdown",
   "id": "72ad9489",
   "metadata": {},
   "source": [
    "Вам нужно защитить данные клиентов страховой компании «Хоть потоп». Разработайте такой метод преобразования данных, чтобы по ним было сложно восстановить персональную информацию. Обоснуйте корректность его работы.\n",
    "\n",
    "Нужно защитить данные, чтобы при преобразовании качество моделей машинного обучения не ухудшилось. Подбирать наилучшую модель не требуется."
   ]
  },
  {
   "cell_type": "markdown",
   "id": "2352cf04",
   "metadata": {},
   "source": [
    "## Загрузка данных"
   ]
  },
  {
   "cell_type": "code",
   "execution_count": 1,
   "id": "69ae0d68",
   "metadata": {},
   "outputs": [],
   "source": [
    "import pandas as pd\n",
    "import numpy as np\n",
    "from sklearn.metrics import r2_score\n",
    "from sklearn.model_selection import train_test_split\n",
    "from numpy.linalg import inv\n",
    "from sklearn.linear_model import LinearRegression"
   ]
  },
  {
   "cell_type": "code",
   "execution_count": 2,
   "id": "07d6e8fa",
   "metadata": {},
   "outputs": [],
   "source": [
    "data = pd.read_csv('insurance.csv')"
   ]
  },
  {
   "cell_type": "code",
   "execution_count": 3,
   "id": "f8852cd8",
   "metadata": {},
   "outputs": [
    {
     "data": {
      "text/html": [
       "<div>\n",
       "<style scoped>\n",
       "    .dataframe tbody tr th:only-of-type {\n",
       "        vertical-align: middle;\n",
       "    }\n",
       "\n",
       "    .dataframe tbody tr th {\n",
       "        vertical-align: top;\n",
       "    }\n",
       "\n",
       "    .dataframe thead th {\n",
       "        text-align: right;\n",
       "    }\n",
       "</style>\n",
       "<table border=\"1\" class=\"dataframe\">\n",
       "  <thead>\n",
       "    <tr style=\"text-align: right;\">\n",
       "      <th></th>\n",
       "      <th>Пол</th>\n",
       "      <th>Возраст</th>\n",
       "      <th>Зарплата</th>\n",
       "      <th>Члены семьи</th>\n",
       "      <th>Страховые выплаты</th>\n",
       "    </tr>\n",
       "  </thead>\n",
       "  <tbody>\n",
       "    <tr>\n",
       "      <th>0</th>\n",
       "      <td>1</td>\n",
       "      <td>41.0</td>\n",
       "      <td>49600.0</td>\n",
       "      <td>1</td>\n",
       "      <td>0</td>\n",
       "    </tr>\n",
       "    <tr>\n",
       "      <th>1</th>\n",
       "      <td>0</td>\n",
       "      <td>46.0</td>\n",
       "      <td>38000.0</td>\n",
       "      <td>1</td>\n",
       "      <td>1</td>\n",
       "    </tr>\n",
       "    <tr>\n",
       "      <th>2</th>\n",
       "      <td>0</td>\n",
       "      <td>29.0</td>\n",
       "      <td>21000.0</td>\n",
       "      <td>0</td>\n",
       "      <td>0</td>\n",
       "    </tr>\n",
       "    <tr>\n",
       "      <th>3</th>\n",
       "      <td>0</td>\n",
       "      <td>21.0</td>\n",
       "      <td>41700.0</td>\n",
       "      <td>2</td>\n",
       "      <td>0</td>\n",
       "    </tr>\n",
       "    <tr>\n",
       "      <th>4</th>\n",
       "      <td>1</td>\n",
       "      <td>28.0</td>\n",
       "      <td>26100.0</td>\n",
       "      <td>0</td>\n",
       "      <td>0</td>\n",
       "    </tr>\n",
       "  </tbody>\n",
       "</table>\n",
       "</div>"
      ],
      "text/plain": [
       "   Пол  Возраст  Зарплата  Члены семьи  Страховые выплаты\n",
       "0    1     41.0   49600.0            1                  0\n",
       "1    0     46.0   38000.0            1                  1\n",
       "2    0     29.0   21000.0            0                  0\n",
       "3    0     21.0   41700.0            2                  0\n",
       "4    1     28.0   26100.0            0                  0"
      ]
     },
     "metadata": {},
     "output_type": "display_data"
    }
   ],
   "source": [
    "display(data.head(5))"
   ]
  },
  {
   "cell_type": "code",
   "execution_count": 4,
   "id": "9adab0ea",
   "metadata": {},
   "outputs": [
    {
     "name": "stdout",
     "output_type": "stream",
     "text": [
      "<class 'pandas.core.frame.DataFrame'>\n",
      "RangeIndex: 5000 entries, 0 to 4999\n",
      "Data columns (total 5 columns):\n",
      " #   Column             Non-Null Count  Dtype  \n",
      "---  ------             --------------  -----  \n",
      " 0   Пол                5000 non-null   int64  \n",
      " 1   Возраст            5000 non-null   float64\n",
      " 2   Зарплата           5000 non-null   float64\n",
      " 3   Члены семьи        5000 non-null   int64  \n",
      " 4   Страховые выплаты  5000 non-null   int64  \n",
      "dtypes: float64(2), int64(3)\n",
      "memory usage: 195.4 KB\n"
     ]
    },
    {
     "data": {
      "text/plain": [
       "None"
      ]
     },
     "metadata": {},
     "output_type": "display_data"
    }
   ],
   "source": [
    "display(data.info())"
   ]
  },
  {
   "cell_type": "code",
   "execution_count": 5,
   "id": "8b6fdc95",
   "metadata": {
    "scrolled": true
   },
   "outputs": [
    {
     "data": {
      "text/html": [
       "<div>\n",
       "<style scoped>\n",
       "    .dataframe tbody tr th:only-of-type {\n",
       "        vertical-align: middle;\n",
       "    }\n",
       "\n",
       "    .dataframe tbody tr th {\n",
       "        vertical-align: top;\n",
       "    }\n",
       "\n",
       "    .dataframe thead th {\n",
       "        text-align: right;\n",
       "    }\n",
       "</style>\n",
       "<table border=\"1\" class=\"dataframe\">\n",
       "  <thead>\n",
       "    <tr style=\"text-align: right;\">\n",
       "      <th></th>\n",
       "      <th>Пол</th>\n",
       "      <th>Возраст</th>\n",
       "      <th>Зарплата</th>\n",
       "      <th>Члены семьи</th>\n",
       "      <th>Страховые выплаты</th>\n",
       "    </tr>\n",
       "  </thead>\n",
       "  <tbody>\n",
       "    <tr>\n",
       "      <th>count</th>\n",
       "      <td>5000.000000</td>\n",
       "      <td>5000.000000</td>\n",
       "      <td>5000.000000</td>\n",
       "      <td>5000.000000</td>\n",
       "      <td>5000.000000</td>\n",
       "    </tr>\n",
       "    <tr>\n",
       "      <th>mean</th>\n",
       "      <td>0.499000</td>\n",
       "      <td>30.952800</td>\n",
       "      <td>39916.360000</td>\n",
       "      <td>1.194200</td>\n",
       "      <td>0.148000</td>\n",
       "    </tr>\n",
       "    <tr>\n",
       "      <th>std</th>\n",
       "      <td>0.500049</td>\n",
       "      <td>8.440807</td>\n",
       "      <td>9900.083569</td>\n",
       "      <td>1.091387</td>\n",
       "      <td>0.463183</td>\n",
       "    </tr>\n",
       "    <tr>\n",
       "      <th>min</th>\n",
       "      <td>0.000000</td>\n",
       "      <td>18.000000</td>\n",
       "      <td>5300.000000</td>\n",
       "      <td>0.000000</td>\n",
       "      <td>0.000000</td>\n",
       "    </tr>\n",
       "    <tr>\n",
       "      <th>25%</th>\n",
       "      <td>0.000000</td>\n",
       "      <td>24.000000</td>\n",
       "      <td>33300.000000</td>\n",
       "      <td>0.000000</td>\n",
       "      <td>0.000000</td>\n",
       "    </tr>\n",
       "    <tr>\n",
       "      <th>50%</th>\n",
       "      <td>0.000000</td>\n",
       "      <td>30.000000</td>\n",
       "      <td>40200.000000</td>\n",
       "      <td>1.000000</td>\n",
       "      <td>0.000000</td>\n",
       "    </tr>\n",
       "    <tr>\n",
       "      <th>75%</th>\n",
       "      <td>1.000000</td>\n",
       "      <td>37.000000</td>\n",
       "      <td>46600.000000</td>\n",
       "      <td>2.000000</td>\n",
       "      <td>0.000000</td>\n",
       "    </tr>\n",
       "    <tr>\n",
       "      <th>max</th>\n",
       "      <td>1.000000</td>\n",
       "      <td>65.000000</td>\n",
       "      <td>79000.000000</td>\n",
       "      <td>6.000000</td>\n",
       "      <td>5.000000</td>\n",
       "    </tr>\n",
       "  </tbody>\n",
       "</table>\n",
       "</div>"
      ],
      "text/plain": [
       "               Пол      Возраст      Зарплата  Члены семьи  Страховые выплаты\n",
       "count  5000.000000  5000.000000   5000.000000  5000.000000        5000.000000\n",
       "mean      0.499000    30.952800  39916.360000     1.194200           0.148000\n",
       "std       0.500049     8.440807   9900.083569     1.091387           0.463183\n",
       "min       0.000000    18.000000   5300.000000     0.000000           0.000000\n",
       "25%       0.000000    24.000000  33300.000000     0.000000           0.000000\n",
       "50%       0.000000    30.000000  40200.000000     1.000000           0.000000\n",
       "75%       1.000000    37.000000  46600.000000     2.000000           0.000000\n",
       "max       1.000000    65.000000  79000.000000     6.000000           5.000000"
      ]
     },
     "metadata": {},
     "output_type": "display_data"
    }
   ],
   "source": [
    "display(data.describe())"
   ]
  },
  {
   "cell_type": "code",
   "execution_count": 6,
   "id": "972088f7",
   "metadata": {
    "scrolled": false
   },
   "outputs": [
    {
     "data": {
      "text/plain": [
       "153"
      ]
     },
     "metadata": {},
     "output_type": "display_data"
    }
   ],
   "source": [
    "display(data.duplicated().sum())"
   ]
  },
  {
   "cell_type": "markdown",
   "id": "86660639",
   "metadata": {},
   "source": [
    "В нашем распоряжении датасет, состоящий из 5 столбцов и 5000 строк. Пропущенных значений нет. Есть дубликаты, но мы их оставим, так как они не повлияют на решение нашей задачи.\n",
    "\n",
    "Пол, возраст, зарплата и количество членов семьи - features.\n",
    "Страховые выплаты - target.\n",
    "\n",
    "Данные готовы."
   ]
  },
  {
   "cell_type": "markdown",
   "id": "02fc8c2c",
   "metadata": {},
   "source": [
    "## Умножение матриц"
   ]
  },
  {
   "cell_type": "markdown",
   "id": "9f5069ff",
   "metadata": {},
   "source": [
    "В этом задании вы можете записывать формулы в *Jupyter Notebook.*\n",
    "\n",
    "Чтобы записать формулу внутри текста, окружите её символами доллара \\\\$; если снаружи —  двойными символами \\\\$\\\\$. Эти формулы записываются на языке вёрстки *LaTeX.* \n",
    "\n",
    "Для примера мы записали формулы линейной регрессии. Можете их скопировать и отредактировать, чтобы решить задачу.\n",
    "\n",
    "Работать в *LaTeX* необязательно."
   ]
  },
  {
   "cell_type": "markdown",
   "id": "d37369f9",
   "metadata": {},
   "source": [
    "Обозначения:\n",
    "\n",
    "- $X$ — матрица признаков (нулевой столбец состоит из единиц)\n",
    "\n",
    "- $y$ — вектор целевого признака\n",
    "\n",
    "- $P$ — матрица, на которую умножаются признаки\n",
    "\n",
    "- $w$ — вектор весов линейной регрессии (нулевой элемент равен сдвигу)"
   ]
  },
  {
   "cell_type": "markdown",
   "id": "6822ba27",
   "metadata": {},
   "source": [
    "Предсказания:\n",
    "\n",
    "$$\n",
    "a = Xw\n",
    "$$\n",
    "\n",
    "Задача обучения:\n",
    "\n",
    "$$\n",
    "w = \\arg\\min_w MSE(Xw, y)\n",
    "$$\n",
    "\n",
    "Формула обучения:\n",
    "\n",
    "$$\n",
    "w = (X^T X)^{-1} X^T y\n",
    "$$"
   ]
  },
  {
   "cell_type": "markdown",
   "id": "2ea82ac1",
   "metadata": {},
   "source": [
    "***Признаки умножают на обратимую матрицу. Изменится ли качество линейной регрессии?***"
   ]
  },
  {
   "cell_type": "markdown",
   "id": "bec219f5",
   "metadata": {},
   "source": [
    "**Ответ:**  При умножении признаков на обратимую матрицу качество линейной регрессии не изменится.\n",
    "\n",
    "**Обоснование:** ..."
   ]
  },
  {
   "cell_type": "markdown",
   "id": "3485f6ff",
   "metadata": {},
   "source": [
    "Домножим наши признаки на некоторую случайную матрицу A, при условии что число её строк равно числу столбцов X и А — обратима, то есть существует такая $ A^{-1} $ что $ A^{-1}A = E $, где E - единичная матрица.\n",
    "\n",
    "Пусть $Z=XA$. Посмотрим чему будет равно предсказание и вектор весов:\n",
    "\n",
    "$\n",
    "a_{1} = Zw_{-1}\n",
    "$\n",
    "\n",
    "$\n",
    "w_{1} = (Z^T Z)^{-1} Z^T y\n",
    "$\n",
    "\n",
    "Объединим эти формулы:\n",
    "\n",
    "$\n",
    "a_{1} = Z(Z^T Z)^{-1} Z^T y\n",
    "$\n",
    "\n",
    "Заменим Z на XA:\n",
    "\n",
    "$\n",
    "a_{1} = XA((XA)^T (XA))^{-1} (XA)^T y\n",
    "$\n",
    "\n",
    "Используя свойство обратной матрицы $(AB)^{-1}=B^{-1}A^{-1}$ преобразуем предыдущую формулу:\n",
    "\n",
    "$\n",
    "a_{1} = XA((XA)^T (XA))^{-1} (XA)^T y = XA (XA)^{-1} ((XA)^T)^{-1} (XA)^T y = XA A^{-1} X^{-1}((XA)^T)^{-1} (XA)^T y\n",
    "$\n",
    "\n",
    "Так как $ A^{-1}A = E $ и $(AB)^T = B^T A^T $ (свойство транспонированных матриц) получаем:\n",
    "\n",
    "$\n",
    "a_{1} = XA A^{-1} X^{-1}((XA)^T)^{-1} (XA)^T y = XEX^{-1}(A^T X^T)^{-1} A^T X^T y = XX^{-1}(A^T)^{-1}(X^T)^{-1}A^T X^T y\n",
    "$\n",
    "\n",
    "Так как $(A^T)^{-1} A^T = E$ получаем:\n",
    "\n",
    "$\n",
    "a_{1} = XX^{-1}(A^T)^{-1}(X^T)^{-1}A^T X^T y = XX^{-1} E (X^T)^{-1} X^T y = X (X^T X)^{-1}X^T y = Xw = a\n",
    "$\n",
    "\n",
    "Таким образом получается $a=a_{1}$, а это значит, что значения предсказаний не изменятся, если умножить матрицу признаков на обратимую матрицу."
   ]
  },
  {
   "cell_type": "markdown",
   "id": "5d72f7d5",
   "metadata": {},
   "source": [
    "\n",
    "\n",
    "$\n",
    "a = Xw = XEw = XPP^{-1}w = (XP)P^{-1}w = (XP)w'\n",
    "$\n",
    "\n",
    "$\n",
    "w' = ((XP)^T XP)^{-1} (XP)^T y\n",
    "$\n",
    "\n",
    "$\n",
    "w' = (P^T (X^T X) P)^{-1} (XP)^T y\n",
    "$\n",
    "\n",
    "$\n",
    "w' = P^{-1} (X^T X)^{-1} (P^T)^{-1} P^T X^T y\n",
    "$\n",
    "\n",
    "$\n",
    "w' = P^{-1} (X^T X)^{-1} E X^T y\n",
    "$\n",
    "\n",
    "$\n",
    "w' = P^{-1} (X^T X)^{-1} X^T y\n",
    "$\n",
    "\n",
    "$\n",
    "w' = P^{-1} w\n",
    "$\n"
   ]
  },
  {
   "cell_type": "markdown",
   "id": "159c0ba0",
   "metadata": {},
   "source": [
    "## Алгоритм преобразования"
   ]
  },
  {
   "cell_type": "markdown",
   "id": "0a8f6bc9",
   "metadata": {},
   "source": [
    "**Алгоритм**\n",
    "\n",
    "Умножение матрицы признаков на обратимую матрицу, которая будет генерироваться случайным образом."
   ]
  },
  {
   "cell_type": "markdown",
   "id": "ffe2a766",
   "metadata": {},
   "source": [
    "**Обоснование**"
   ]
  },
  {
   "cell_type": "markdown",
   "id": "a533894e",
   "metadata": {},
   "source": [
    "Создадим случайную матрицу размера 4*4:"
   ]
  },
  {
   "cell_type": "code",
   "execution_count": 7,
   "id": "5a7b047d",
   "metadata": {},
   "outputs": [
    {
     "data": {
      "text/plain": [
       "array([[0.03946364, 0.19233663, 0.17559752, 0.65210237],\n",
       "       [0.59659526, 0.29340839, 0.12990802, 0.35476262],\n",
       "       [0.02753429, 0.11676805, 0.73118293, 0.65913172],\n",
       "       [0.59092501, 0.84647168, 0.0856697 , 0.06108777]])"
      ]
     },
     "metadata": {},
     "output_type": "display_data"
    }
   ],
   "source": [
    "random_matrix = np.random.rand(4,4)\n",
    "display(random_matrix)"
   ]
  },
  {
   "cell_type": "markdown",
   "id": "c194b484",
   "metadata": {},
   "source": [
    "Создадим обратную ей матрицу (чтобы точно знать, что матрица для нашего алгоритма будет обратимой)"
   ]
  },
  {
   "cell_type": "code",
   "execution_count": 8,
   "id": "3c0a8f40",
   "metadata": {},
   "outputs": [
    {
     "data": {
      "text/plain": [
       "array([[-1.1112024 ,  2.27323125, -0.07550134, -0.52505483],\n",
       "       [ 0.81956908, -1.59685006, -0.09611786,  1.56191822],\n",
       "       [-1.73539492, -0.17319584,  1.79089355,  0.2073052 ],\n",
       "       [ 1.82632363,  0.3800562 , -0.44933117, -0.48473339]])"
      ]
     },
     "metadata": {},
     "output_type": "display_data"
    }
   ],
   "source": [
    "inv_matrix = np.linalg.inv(random_matrix)\n",
    "display(inv_matrix)"
   ]
  },
  {
   "cell_type": "markdown",
   "id": "6a42b07c",
   "metadata": {},
   "source": [
    "Наша матрица для умножения готова, можно проверять алгоритм."
   ]
  },
  {
   "cell_type": "raw",
   "id": "8321a67f",
   "metadata": {},
   "source": [
    "def generate_invertible_matrix(size):\n",
    "    try:\n",
    "        matrix = np.random.normal(size=(size, size))\n",
    "        # проверим матрицу на обратимость, если нет, пробуем сгенерировать еще раз\n",
    "        # таким образом гарантируем, что матрица стопроцентно будет обратимой\n",
    "        np.linalg.inv(matrix)\n",
    "    except np.linalg.LinAlgError:\n",
    "        matrix = generate_invertible_matrix()\n",
    "    \n",
    "    return matrix"
   ]
  },
  {
   "cell_type": "markdown",
   "id": "d3375a32",
   "metadata": {},
   "source": [
    "## Проверка алгоритма"
   ]
  },
  {
   "cell_type": "markdown",
   "id": "4448a9a2",
   "metadata": {},
   "source": [
    "Разделим данные на фичи и таргет, а потом на трейн и тест:"
   ]
  },
  {
   "cell_type": "code",
   "execution_count": 9,
   "id": "d2cc32dd",
   "metadata": {},
   "outputs": [],
   "source": [
    "features = data.drop('Страховые выплаты',axis=1)\n",
    "target = data['Страховые выплаты']\n",
    "\n",
    "features_train, features_test, target_train, target_test = train_test_split(features, target, test_size=0.2, random_state=111)"
   ]
  },
  {
   "cell_type": "markdown",
   "id": "331df6b8",
   "metadata": {},
   "source": [
    "Обучим модель и посчитаем R2:"
   ]
  },
  {
   "cell_type": "code",
   "execution_count": 10,
   "id": "bf714062",
   "metadata": {},
   "outputs": [
    {
     "name": "stdout",
     "output_type": "stream",
     "text": [
      "0.4583166347384783\n"
     ]
    }
   ],
   "source": [
    "model = LinearRegression()\n",
    "model.fit(features_train, target_train)\n",
    "predictions = model.predict(features_test)\n",
    "print(r2_score(target_test, predictions))"
   ]
  },
  {
   "cell_type": "markdown",
   "id": "b44d85d5",
   "metadata": {},
   "source": [
    "Теперь умножим матрицы фичей на обратимую матрицу:"
   ]
  },
  {
   "cell_type": "code",
   "execution_count": 11,
   "id": "50dcc3df",
   "metadata": {},
   "outputs": [],
   "source": [
    "new_features_train = features_train@inv_matrix\n",
    "new_features_test = features_test@inv_matrix"
   ]
  },
  {
   "cell_type": "markdown",
   "id": "a8b3cd44",
   "metadata": {},
   "source": [
    "Снова обучим модель и посчитаем R2:"
   ]
  },
  {
   "cell_type": "code",
   "execution_count": 12,
   "id": "be374dd0",
   "metadata": {},
   "outputs": [
    {
     "name": "stdout",
     "output_type": "stream",
     "text": [
      "0.45831663473855255\n"
     ]
    }
   ],
   "source": [
    "model = LinearRegression()\n",
    "model.fit(new_features_train, target_train)\n",
    "predictions = model.predict(new_features_test)\n",
    "print(r2_score(target_test, predictions))"
   ]
  },
  {
   "cell_type": "markdown",
   "id": "0b9b5aed",
   "metadata": {},
   "source": [
    "Вывод: Качество линейной регрессии (метрика R2) не отличается до и после преобразоваия. "
   ]
  }
 ],
 "metadata": {
  "kernelspec": {
   "display_name": "Python 3 (ipykernel)",
   "language": "python",
   "name": "python3"
  },
  "language_info": {
   "codemirror_mode": {
    "name": "ipython",
    "version": 3
   },
   "file_extension": ".py",
   "mimetype": "text/x-python",
   "name": "python",
   "nbconvert_exporter": "python",
   "pygments_lexer": "ipython3",
   "version": "3.9.13"
  }
 },
 "nbformat": 4,
 "nbformat_minor": 5
}
