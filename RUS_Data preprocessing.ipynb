{
 "cells": [
  {
   "cell_type": "markdown",
   "id": "877cf3ce",
   "metadata": {},
   "source": [
    "# Исследование надежности заемщиков."
   ]
  },
  {
   "cell_type": "markdown",
   "id": "bc0c4669",
   "metadata": {},
   "source": [
    "Заказчик — кредитный отдел банка. Нужно разобраться, влияет ли семейное положение и количество детей клиента на факт погашения кредита в срок. Входные данные от банка — статистика о платёжеспособности клиентов.\n",
    "Результаты исследования будут учтены при построении модели кредитного скоринга — специальной системы, которая оценивает способность потенциального заёмщика вернуть кредит банку.\n"
   ]
  },
  {
   "cell_type": "markdown",
   "id": "eed74dce",
   "metadata": {},
   "source": [
    "### Шаг 1. Обзор данных"
   ]
  },
  {
   "cell_type": "code",
   "execution_count": 1,
   "id": "4c02a58b",
   "metadata": {},
   "outputs": [
    {
     "name": "stdout",
     "output_type": "stream",
     "text": [
      "<class 'pandas.core.frame.DataFrame'>\n",
      "RangeIndex: 21525 entries, 0 to 21524\n",
      "Data columns (total 12 columns):\n",
      " #   Column            Non-Null Count  Dtype  \n",
      "---  ------            --------------  -----  \n",
      " 0   children          21525 non-null  int64  \n",
      " 1   days_employed     19351 non-null  float64\n",
      " 2   dob_years         21525 non-null  int64  \n",
      " 3   education         21525 non-null  object \n",
      " 4   education_id      21525 non-null  int64  \n",
      " 5   family_status     21525 non-null  object \n",
      " 6   family_status_id  21525 non-null  int64  \n",
      " 7   gender            21525 non-null  object \n",
      " 8   income_type       21525 non-null  object \n",
      " 9   debt              21525 non-null  int64  \n",
      " 10  total_income      19351 non-null  float64\n",
      " 11  purpose           21525 non-null  object \n",
      "dtypes: float64(2), int64(5), object(5)\n",
      "memory usage: 2.0+ MB\n"
     ]
    }
   ],
   "source": [
    "import pandas as pd\n",
    "clients = pd.read_csv('data.csv')\n",
    "clients.info()"
   ]
  },
  {
   "cell_type": "markdown",
   "id": "2091ccce",
   "metadata": {},
   "source": [
    "В таблице 12 столбцов. Тип данных разный: integer, float (необходимо в дальнейшем заменить на целочисленный), object. \n",
    "\n",
    "Согласно документации к данным:\n",
    "\n",
    "* children — количество детей в семье\n",
    "* days_employed — общий трудовой стаж в днях\n",
    "* dob_years — возраст клиента в годах\n",
    "* education — уровень образования клиента\n",
    "* education_id — идентификатор уровня образования\n",
    "* family_status — семейное положение\n",
    "* family_status_id — идентификатор семейного положения\n",
    "* gender — пол клиента\n",
    "* income_type — тип занятости\n",
    "* debt — имел ли задолженность по возврату кредитов\n",
    "* total_income — ежемесячный доход\n",
    "* purpose — цель получения кредита\n"
   ]
  },
  {
   "cell_type": "code",
   "execution_count": 2,
   "id": "0130b935",
   "metadata": {},
   "outputs": [
    {
     "data": {
      "text/html": [
       "<div>\n",
       "<style scoped>\n",
       "    .dataframe tbody tr th:only-of-type {\n",
       "        vertical-align: middle;\n",
       "    }\n",
       "\n",
       "    .dataframe tbody tr th {\n",
       "        vertical-align: top;\n",
       "    }\n",
       "\n",
       "    .dataframe thead th {\n",
       "        text-align: right;\n",
       "    }\n",
       "</style>\n",
       "<table border=\"1\" class=\"dataframe\">\n",
       "  <thead>\n",
       "    <tr style=\"text-align: right;\">\n",
       "      <th></th>\n",
       "      <th>children</th>\n",
       "      <th>days_employed</th>\n",
       "      <th>dob_years</th>\n",
       "      <th>education_id</th>\n",
       "      <th>family_status_id</th>\n",
       "      <th>debt</th>\n",
       "      <th>total_income</th>\n",
       "    </tr>\n",
       "  </thead>\n",
       "  <tbody>\n",
       "    <tr>\n",
       "      <th>count</th>\n",
       "      <td>21525.000000</td>\n",
       "      <td>19351.000000</td>\n",
       "      <td>21525.000000</td>\n",
       "      <td>21525.000000</td>\n",
       "      <td>21525.000000</td>\n",
       "      <td>21525.000000</td>\n",
       "      <td>1.935100e+04</td>\n",
       "    </tr>\n",
       "    <tr>\n",
       "      <th>mean</th>\n",
       "      <td>0.538908</td>\n",
       "      <td>63046.497661</td>\n",
       "      <td>43.293380</td>\n",
       "      <td>0.817236</td>\n",
       "      <td>0.972544</td>\n",
       "      <td>0.080883</td>\n",
       "      <td>1.674223e+05</td>\n",
       "    </tr>\n",
       "    <tr>\n",
       "      <th>std</th>\n",
       "      <td>1.381587</td>\n",
       "      <td>140827.311974</td>\n",
       "      <td>12.574584</td>\n",
       "      <td>0.548138</td>\n",
       "      <td>1.420324</td>\n",
       "      <td>0.272661</td>\n",
       "      <td>1.029716e+05</td>\n",
       "    </tr>\n",
       "    <tr>\n",
       "      <th>min</th>\n",
       "      <td>-1.000000</td>\n",
       "      <td>-18388.949901</td>\n",
       "      <td>0.000000</td>\n",
       "      <td>0.000000</td>\n",
       "      <td>0.000000</td>\n",
       "      <td>0.000000</td>\n",
       "      <td>2.066726e+04</td>\n",
       "    </tr>\n",
       "    <tr>\n",
       "      <th>25%</th>\n",
       "      <td>0.000000</td>\n",
       "      <td>-2747.423625</td>\n",
       "      <td>33.000000</td>\n",
       "      <td>1.000000</td>\n",
       "      <td>0.000000</td>\n",
       "      <td>0.000000</td>\n",
       "      <td>1.030532e+05</td>\n",
       "    </tr>\n",
       "    <tr>\n",
       "      <th>50%</th>\n",
       "      <td>0.000000</td>\n",
       "      <td>-1203.369529</td>\n",
       "      <td>42.000000</td>\n",
       "      <td>1.000000</td>\n",
       "      <td>0.000000</td>\n",
       "      <td>0.000000</td>\n",
       "      <td>1.450179e+05</td>\n",
       "    </tr>\n",
       "    <tr>\n",
       "      <th>75%</th>\n",
       "      <td>1.000000</td>\n",
       "      <td>-291.095954</td>\n",
       "      <td>53.000000</td>\n",
       "      <td>1.000000</td>\n",
       "      <td>1.000000</td>\n",
       "      <td>0.000000</td>\n",
       "      <td>2.034351e+05</td>\n",
       "    </tr>\n",
       "    <tr>\n",
       "      <th>max</th>\n",
       "      <td>20.000000</td>\n",
       "      <td>401755.400475</td>\n",
       "      <td>75.000000</td>\n",
       "      <td>4.000000</td>\n",
       "      <td>4.000000</td>\n",
       "      <td>1.000000</td>\n",
       "      <td>2.265604e+06</td>\n",
       "    </tr>\n",
       "  </tbody>\n",
       "</table>\n",
       "</div>"
      ],
      "text/plain": [
       "           children  days_employed     dob_years  education_id  \\\n",
       "count  21525.000000   19351.000000  21525.000000  21525.000000   \n",
       "mean       0.538908   63046.497661     43.293380      0.817236   \n",
       "std        1.381587  140827.311974     12.574584      0.548138   \n",
       "min       -1.000000  -18388.949901      0.000000      0.000000   \n",
       "25%        0.000000   -2747.423625     33.000000      1.000000   \n",
       "50%        0.000000   -1203.369529     42.000000      1.000000   \n",
       "75%        1.000000    -291.095954     53.000000      1.000000   \n",
       "max       20.000000  401755.400475     75.000000      4.000000   \n",
       "\n",
       "       family_status_id          debt  total_income  \n",
       "count      21525.000000  21525.000000  1.935100e+04  \n",
       "mean           0.972544      0.080883  1.674223e+05  \n",
       "std            1.420324      0.272661  1.029716e+05  \n",
       "min            0.000000      0.000000  2.066726e+04  \n",
       "25%            0.000000      0.000000  1.030532e+05  \n",
       "50%            0.000000      0.000000  1.450179e+05  \n",
       "75%            1.000000      0.000000  2.034351e+05  \n",
       "max            4.000000      1.000000  2.265604e+06  "
      ]
     },
     "execution_count": 2,
     "metadata": {},
     "output_type": "execute_result"
    }
   ],
   "source": [
    "clients.describe() "
   ]
  },
  {
   "cell_type": "code",
   "execution_count": 3,
   "id": "1edcd249",
   "metadata": {},
   "outputs": [
    {
     "data": {
      "text/plain": [
       "children            0.000000\n",
       "days_employed       0.100999\n",
       "dob_years           0.000000\n",
       "education           0.000000\n",
       "education_id        0.000000\n",
       "family_status       0.000000\n",
       "family_status_id    0.000000\n",
       "gender              0.000000\n",
       "income_type         0.000000\n",
       "debt                0.000000\n",
       "total_income        0.100999\n",
       "purpose             0.000000\n",
       "dtype: float64"
      ]
     },
     "execution_count": 3,
     "metadata": {},
     "output_type": "execute_result"
    }
   ],
   "source": [
    "clients.isna().mean()"
   ]
  },
  {
   "cell_type": "markdown",
   "id": "90873322",
   "metadata": {},
   "source": [
    "### Шаг 2.1 Заполнение пропусков"
   ]
  },
  {
   "cell_type": "code",
   "execution_count": 4,
   "id": "f8187eb8",
   "metadata": {},
   "outputs": [],
   "source": [
    "# clients.loc[clients['income_type'] == 'пенсионер','days_employed'] = clients.loc[clients['income_type'] == 'пенсионер','days_employed'].apply(lambda x: x/24) \n",
    "# уменьшим в 24 раза значение в столбце со стажем у пенсионеров (строка закомментирована, чтобы вычисления не были произведены еще раз)\n",
    "clients['days_employed'] = abs(clients['days_employed']) # замена отрицательных значения на положительные \n",
    "\n",
    "days_employed_median = clients['days_employed'].median() \n",
    "total_income_median = clients['total_income'].median()\n",
    "\n",
    "clients['days_employed'] = clients['days_employed'].fillna(days_employed_median)\n",
    "clients['total_income'] = clients['total_income'].fillna(total_income_median)\n"
   ]
  },
  {
   "cell_type": "markdown",
   "id": "336adf9c",
   "metadata": {},
   "source": [
    "В столбцах \"days_employed\" и \"total_income\" есть пропуски. Для 10% клиентов не указан общий трудовой стаж в днях и ежемесячный доход. Возможно, некоторые пользователи не смогли точно вспомнить свой стаж и не захотели указывать свою зарплату. \n",
    "\n",
    "В столбце \"days_employed\" большое количество значений отрицательные, вероятно, произошла ошибка при записи данных. Отрицательные значения заменены на положительные. Часть значений (изначально положительные, у пенсионеров) слишком большие, что вызывает вопрос о достоверности данных. Возможно, значения записаны не \"в днях\", а \"в часах\", поэтому они были переведены в подходящий формат. В идеале, наши догадки о происхождении ошибок необходимо было бы согласовать с коллегами, которые знают ответ на эти вопросы.\n",
    "\n",
    "Пропущенные значения были заменены медианным значением. Медиана в данном случае подходит лучше, так как и стаж, и доход некоторых клиентов может сильно отличаться от большинства, поэтому среднее значение будет не объективно."
   ]
  },
  {
   "cell_type": "markdown",
   "id": "4f8ea167",
   "metadata": {},
   "source": [
    "### Шаг 2.2 Проверка данных на аномалии и исправления."
   ]
  },
  {
   "cell_type": "code",
   "execution_count": 5,
   "id": "b10a467c",
   "metadata": {},
   "outputs": [
    {
     "name": "stdout",
     "output_type": "stream",
     "text": [
      "<class 'pandas.core.frame.DataFrame'>\n",
      "RangeIndex: 21525 entries, 0 to 21524\n",
      "Data columns (total 12 columns):\n",
      " #   Column            Non-Null Count  Dtype  \n",
      "---  ------            --------------  -----  \n",
      " 0   children          21525 non-null  int64  \n",
      " 1   days_employed     21525 non-null  float64\n",
      " 2   dob_years         21525 non-null  int64  \n",
      " 3   education         21525 non-null  object \n",
      " 4   education_id      21525 non-null  int64  \n",
      " 5   family_status     21525 non-null  object \n",
      " 6   family_status_id  21525 non-null  int64  \n",
      " 7   gender            21525 non-null  object \n",
      " 8   income_type       21525 non-null  object \n",
      " 9   debt              21525 non-null  int64  \n",
      " 10  total_income      21525 non-null  float64\n",
      " 11  purpose           21525 non-null  object \n",
      "dtypes: float64(2), int64(5), object(5)\n",
      "memory usage: 2.0+ MB\n"
     ]
    }
   ],
   "source": [
    "clients.info() # проверим, не осталось ли пропусков"
   ]
  },
  {
   "cell_type": "markdown",
   "id": "dec32a47",
   "metadata": {},
   "source": [
    "### Шаг 2.3. Изменение типов данных."
   ]
  },
  {
   "cell_type": "code",
   "execution_count": 6,
   "id": "11a94b82",
   "metadata": {},
   "outputs": [],
   "source": [
    "clients['days_employed'] = clients['days_employed'].astype('int') # замена вещественного типа данных на целочисленный\n",
    "clients['total_income'] = clients['total_income'].astype('int') # замена вещественного типа данных на целочисленный"
   ]
  },
  {
   "cell_type": "markdown",
   "id": "f6e5d11f",
   "metadata": {},
   "source": [
    "### Шаг 2.4. Удаление дубликатов."
   ]
  },
  {
   "cell_type": "markdown",
   "id": "5e6f0ef9",
   "metadata": {},
   "source": [
    "Проверим каждый столбец на наличие неявных дубликатов"
   ]
  },
  {
   "cell_type": "code",
   "execution_count": 7,
   "id": "0a88353f",
   "metadata": {},
   "outputs": [
    {
     "data": {
      "text/plain": [
       "54"
      ]
     },
     "execution_count": 7,
     "metadata": {},
     "output_type": "execute_result"
    }
   ],
   "source": [
    "clients.duplicated().sum()"
   ]
  },
  {
   "cell_type": "code",
   "execution_count": 8,
   "id": "28e96bc3",
   "metadata": {},
   "outputs": [
    {
     "data": {
      "text/plain": [
       "0"
      ]
     },
     "execution_count": 8,
     "metadata": {},
     "output_type": "execute_result"
    }
   ],
   "source": [
    "clients = clients.drop_duplicates() # удалим все явные дубликаты\n",
    "clients.duplicated().sum()"
   ]
  },
  {
   "cell_type": "markdown",
   "id": "5452231e",
   "metadata": {},
   "source": [
    "**Столбец 'children'**"
   ]
  },
  {
   "cell_type": "code",
   "execution_count": 9,
   "id": "ee91fd9a",
   "metadata": {
    "scrolled": true
   },
   "outputs": [
    {
     "data": {
      "text/plain": [
       " 0     14107\n",
       " 1      4809\n",
       " 2      2052\n",
       " 3       330\n",
       " 20       76\n",
       "-1        47\n",
       " 4        41\n",
       " 5         9\n",
       "Name: children, dtype: int64"
      ]
     },
     "execution_count": 9,
     "metadata": {},
     "output_type": "execute_result"
    }
   ],
   "source": [
    "clients['children'].value_counts()"
   ]
  },
  {
   "cell_type": "markdown",
   "id": "983e12c4",
   "metadata": {},
   "source": [
    "В столбце с количеством детей в семье есть ошибки. 47 раз встречается \"-1 ребенок\" и 76 случаев с двадцатью детьми в семье (это представляется маловероятным). Заменим эти значения на медианное.  "
   ]
  },
  {
   "cell_type": "code",
   "execution_count": 10,
   "id": "be50d47a",
   "metadata": {},
   "outputs": [
    {
     "data": {
      "text/plain": [
       "0    14230\n",
       "1     4809\n",
       "2     2052\n",
       "3      330\n",
       "4       41\n",
       "5        9\n",
       "Name: children, dtype: int64"
      ]
     },
     "execution_count": 10,
     "metadata": {},
     "output_type": "execute_result"
    }
   ],
   "source": [
    "children_median = clients.loc[clients.loc[:,'children'] != (20 and (-1))]['children'].median()\n",
    "clients['children'] = clients['children'].replace(-1, int(children_median))\n",
    "clients['children'] = clients['children'].replace(20, int(children_median))\n",
    "\n",
    "clients['children'].value_counts() # теперь все ок"
   ]
  },
  {
   "cell_type": "markdown",
   "id": "641e9a5e",
   "metadata": {},
   "source": [
    "**Столбец 'days_employed'** "
   ]
  },
  {
   "cell_type": "code",
   "execution_count": 11,
   "id": "c9892d9a",
   "metadata": {},
   "outputs": [
    {
     "data": {
      "text/plain": [
       "2194      2126\n",
       "133         16\n",
       "327         16\n",
       "438         15\n",
       "223         14\n",
       "          ... \n",
       "8200         1\n",
       "9090         1\n",
       "360849       1\n",
       "2101         1\n",
       "343937       1\n",
       "Name: days_employed, Length: 9086, dtype: int64"
      ]
     },
     "execution_count": 11,
     "metadata": {},
     "output_type": "execute_result"
    }
   ],
   "source": [
    "clients['days_employed'].value_counts()"
   ]
  },
  {
   "cell_type": "markdown",
   "id": "75892b6b",
   "metadata": {},
   "source": [
    "Все выглядит ок"
   ]
  },
  {
   "cell_type": "markdown",
   "id": "1944dc93",
   "metadata": {},
   "source": [
    "* Столбец 'dob_years'"
   ]
  },
  {
   "cell_type": "code",
   "execution_count": 12,
   "id": "02257f81",
   "metadata": {
    "scrolled": false
   },
   "outputs": [
    {
     "data": {
      "text/plain": [
       "35    616\n",
       "40    607\n",
       "41    606\n",
       "34    601\n",
       "38    597\n",
       "42    596\n",
       "33    581\n",
       "39    572\n",
       "31    559\n",
       "36    554\n",
       "44    545\n",
       "29    544\n",
       "30    538\n",
       "48    537\n",
       "37    536\n",
       "50    513\n",
       "43    512\n",
       "32    509\n",
       "49    508\n",
       "28    503\n",
       "45    497\n",
       "27    493\n",
       "52    484\n",
       "56    484\n",
       "47    477\n",
       "54    476\n",
       "46    473\n",
       "53    459\n",
       "57    456\n",
       "58    456\n",
       "51    448\n",
       "59    443\n",
       "55    443\n",
       "26    408\n",
       "60    374\n",
       "25    357\n",
       "61    354\n",
       "62    349\n",
       "63    269\n",
       "24    264\n",
       "64    262\n",
       "23    253\n",
       "65    194\n",
       "22    183\n",
       "66    182\n",
       "67    167\n",
       "21    111\n",
       "0     101\n",
       "68     99\n",
       "69     85\n",
       "70     65\n",
       "71     58\n",
       "20     51\n",
       "72     33\n",
       "19     14\n",
       "73      8\n",
       "74      6\n",
       "75      1\n",
       "Name: dob_years, dtype: int64"
      ]
     },
     "execution_count": 12,
     "metadata": {},
     "output_type": "execute_result"
    }
   ],
   "source": [
    "clients['dob_years'].value_counts()"
   ]
  },
  {
   "cell_type": "markdown",
   "id": "f775b27f",
   "metadata": {},
   "source": [
    "Все выглядит ок"
   ]
  },
  {
   "cell_type": "markdown",
   "id": "fc2ab899",
   "metadata": {},
   "source": [
    "* Столбец 'education'"
   ]
  },
  {
   "cell_type": "code",
   "execution_count": 13,
   "id": "c19bcbe0",
   "metadata": {},
   "outputs": [
    {
     "data": {
      "text/plain": [
       "среднее                13705\n",
       "высшее                  4710\n",
       "СРЕДНЕЕ                  772\n",
       "Среднее                  711\n",
       "неоконченное высшее      668\n",
       "ВЫСШЕЕ                   273\n",
       "Высшее                   268\n",
       "начальное                250\n",
       "Неоконченное высшее       47\n",
       "НЕОКОНЧЕННОЕ ВЫСШЕЕ       29\n",
       "НАЧАЛЬНОЕ                 17\n",
       "Начальное                 15\n",
       "ученая степень             4\n",
       "Ученая степень             1\n",
       "УЧЕНАЯ СТЕПЕНЬ             1\n",
       "Name: education, dtype: int64"
      ]
     },
     "execution_count": 13,
     "metadata": {},
     "output_type": "execute_result"
    }
   ],
   "source": [
    "clients['education'].value_counts()"
   ]
  },
  {
   "cell_type": "markdown",
   "id": "9f01678d",
   "metadata": {},
   "source": [
    "В этом столбце есть одинаковые значения, записанные в разных регистрах. Приведем все к одному регистру."
   ]
  },
  {
   "cell_type": "code",
   "execution_count": 14,
   "id": "e9c90e2c",
   "metadata": {},
   "outputs": [
    {
     "data": {
      "text/plain": [
       "среднее                15188\n",
       "высшее                  5251\n",
       "неоконченное высшее      744\n",
       "начальное                282\n",
       "ученая степень             6\n",
       "Name: education, dtype: int64"
      ]
     },
     "execution_count": 14,
     "metadata": {},
     "output_type": "execute_result"
    }
   ],
   "source": [
    "clients['education'] = clients['education'].str.lower()\n",
    "clients['education'].value_counts()"
   ]
  },
  {
   "cell_type": "markdown",
   "id": "9ac3b41d",
   "metadata": {},
   "source": [
    "**Столбец 'education_id'**"
   ]
  },
  {
   "cell_type": "code",
   "execution_count": 15,
   "id": "15363a8b",
   "metadata": {},
   "outputs": [
    {
     "data": {
      "text/plain": [
       "1    15188\n",
       "0     5251\n",
       "2      744\n",
       "3      282\n",
       "4        6\n",
       "Name: education_id, dtype: int64"
      ]
     },
     "execution_count": 15,
     "metadata": {},
     "output_type": "execute_result"
    }
   ],
   "source": [
    "clients['education_id'].value_counts() "
   ]
  },
  {
   "cell_type": "markdown",
   "id": "3b4bb6b6",
   "metadata": {},
   "source": [
    "Все выглядит ок"
   ]
  },
  {
   "cell_type": "markdown",
   "id": "128ce9db",
   "metadata": {},
   "source": [
    "**Столбец 'family_status'**"
   ]
  },
  {
   "cell_type": "code",
   "execution_count": 16,
   "id": "f688252d",
   "metadata": {},
   "outputs": [
    {
     "data": {
      "text/plain": [
       "женат / замужем          12344\n",
       "гражданский брак          4163\n",
       "Не женат / не замужем     2810\n",
       "в разводе                 1195\n",
       "вдовец / вдова             959\n",
       "Name: family_status, dtype: int64"
      ]
     },
     "execution_count": 16,
     "metadata": {},
     "output_type": "execute_result"
    }
   ],
   "source": [
    "clients['family_status'].value_counts() "
   ]
  },
  {
   "cell_type": "markdown",
   "id": "7b3d2d6d",
   "metadata": {},
   "source": [
    "Приведем все к одному регистру"
   ]
  },
  {
   "cell_type": "code",
   "execution_count": 17,
   "id": "7d166969",
   "metadata": {},
   "outputs": [
    {
     "data": {
      "text/plain": [
       "женат / замужем          12344\n",
       "гражданский брак          4163\n",
       "не женат / не замужем     2810\n",
       "в разводе                 1195\n",
       "вдовец / вдова             959\n",
       "Name: family_status, dtype: int64"
      ]
     },
     "execution_count": 17,
     "metadata": {},
     "output_type": "execute_result"
    }
   ],
   "source": [
    "clients['family_status'] = clients['family_status'].str.lower()\n",
    "clients['family_status'].value_counts() "
   ]
  },
  {
   "cell_type": "markdown",
   "id": "769f251c",
   "metadata": {},
   "source": [
    "**Столбец 'family_status_id'**"
   ]
  },
  {
   "cell_type": "code",
   "execution_count": 18,
   "id": "cb64aa27",
   "metadata": {},
   "outputs": [
    {
     "data": {
      "text/plain": [
       "0    12344\n",
       "1     4163\n",
       "4     2810\n",
       "3     1195\n",
       "2      959\n",
       "Name: family_status_id, dtype: int64"
      ]
     },
     "execution_count": 18,
     "metadata": {},
     "output_type": "execute_result"
    }
   ],
   "source": [
    "clients['family_status_id'].value_counts() "
   ]
  },
  {
   "cell_type": "markdown",
   "id": "2d7762ef",
   "metadata": {},
   "source": [
    "Все выглядит ок"
   ]
  },
  {
   "cell_type": "markdown",
   "id": "b7a734d7",
   "metadata": {},
   "source": [
    "**Столбец 'gender'**"
   ]
  },
  {
   "cell_type": "code",
   "execution_count": 19,
   "id": "be148987",
   "metadata": {},
   "outputs": [
    {
     "data": {
      "text/plain": [
       "F      14189\n",
       "M       7281\n",
       "XNA        1\n",
       "Name: gender, dtype: int64"
      ]
     },
     "execution_count": 19,
     "metadata": {},
     "output_type": "execute_result"
    }
   ],
   "source": [
    "clients['gender'].value_counts() "
   ]
  },
  {
   "cell_type": "markdown",
   "id": "e9c212b9",
   "metadata": {},
   "source": [
    "Есть одно некорректное значение, но оно только одно, поэтому можно все оставить как есть."
   ]
  },
  {
   "cell_type": "markdown",
   "id": "9f1354c6",
   "metadata": {},
   "source": [
    "**Столбец 'income_type'**"
   ]
  },
  {
   "cell_type": "code",
   "execution_count": 20,
   "id": "7729bc56",
   "metadata": {},
   "outputs": [
    {
     "data": {
      "text/plain": [
       "сотрудник          11091\n",
       "компаньон           5080\n",
       "пенсионер           3837\n",
       "госслужащий         1457\n",
       "безработный            2\n",
       "предприниматель        2\n",
       "студент                1\n",
       "в декрете              1\n",
       "Name: income_type, dtype: int64"
      ]
     },
     "execution_count": 20,
     "metadata": {},
     "output_type": "execute_result"
    }
   ],
   "source": [
    "clients['income_type'].value_counts() "
   ]
  },
  {
   "cell_type": "markdown",
   "id": "5192a445",
   "metadata": {},
   "source": [
    "Все выглядит ок"
   ]
  },
  {
   "cell_type": "markdown",
   "id": "80af9f9e",
   "metadata": {},
   "source": [
    "**Столбец 'debt'**"
   ]
  },
  {
   "cell_type": "code",
   "execution_count": 21,
   "id": "3c2dd7c8",
   "metadata": {},
   "outputs": [
    {
     "data": {
      "text/plain": [
       "0    19730\n",
       "1     1741\n",
       "Name: debt, dtype: int64"
      ]
     },
     "execution_count": 21,
     "metadata": {},
     "output_type": "execute_result"
    }
   ],
   "source": [
    "clients['debt'].value_counts() "
   ]
  },
  {
   "cell_type": "markdown",
   "id": "eb4a475d",
   "metadata": {},
   "source": [
    "Все выглядит ок"
   ]
  },
  {
   "cell_type": "markdown",
   "id": "c942efd8",
   "metadata": {},
   "source": [
    "**Столбец 'total_income'**"
   ]
  },
  {
   "cell_type": "code",
   "execution_count": 22,
   "id": "88d286f2",
   "metadata": {},
   "outputs": [
    {
     "data": {
      "text/plain": [
       "145017    2121\n",
       "133122       3\n",
       "104693       3\n",
       "204827       3\n",
       "107832       3\n",
       "          ... \n",
       "300306       1\n",
       "381117       1\n",
       "70100        1\n",
       "110461       1\n",
       "82047        1\n",
       "Name: total_income, Length: 18606, dtype: int64"
      ]
     },
     "execution_count": 22,
     "metadata": {},
     "output_type": "execute_result"
    }
   ],
   "source": [
    "clients['total_income'].value_counts() "
   ]
  },
  {
   "cell_type": "markdown",
   "id": "d1d2ae0f",
   "metadata": {},
   "source": [
    "Все выглядит ок"
   ]
  },
  {
   "cell_type": "markdown",
   "id": "37623b97",
   "metadata": {},
   "source": [
    "**Столбец 'purpose'**"
   ]
  },
  {
   "cell_type": "code",
   "execution_count": 23,
   "id": "348e1ae0",
   "metadata": {},
   "outputs": [
    {
     "data": {
      "text/plain": [
       "свадьба                                   793\n",
       "на проведение свадьбы                     773\n",
       "сыграть свадьбу                           769\n",
       "операции с недвижимостью                  675\n",
       "покупка коммерческой недвижимости         662\n",
       "покупка жилья для сдачи                   652\n",
       "операции с жильем                         652\n",
       "операции с коммерческой недвижимостью     650\n",
       "покупка жилья                             646\n",
       "жилье                                     646\n",
       "покупка жилья для семьи                   638\n",
       "строительство собственной недвижимости    635\n",
       "недвижимость                              633\n",
       "операции со своей недвижимостью           627\n",
       "строительство жилой недвижимости          625\n",
       "покупка недвижимости                      621\n",
       "покупка своего жилья                      620\n",
       "строительство недвижимости                619\n",
       "ремонт жилью                              607\n",
       "покупка жилой недвижимости                606\n",
       "на покупку своего автомобиля              505\n",
       "заняться высшим образованием              496\n",
       "автомобиль                                494\n",
       "сделка с подержанным автомобилем          486\n",
       "свой автомобиль                           479\n",
       "на покупку подержанного автомобиля        478\n",
       "автомобили                                478\n",
       "на покупку автомобиля                     472\n",
       "приобретение автомобиля                   461\n",
       "дополнительное образование                460\n",
       "сделка с автомобилем                      455\n",
       "высшее образование                        452\n",
       "образование                               447\n",
       "получение дополнительного образования     447\n",
       "получение образования                     442\n",
       "профильное образование                    436\n",
       "получение высшего образования             426\n",
       "заняться образованием                     408\n",
       "Name: purpose, dtype: int64"
      ]
     },
     "execution_count": 23,
     "metadata": {},
     "output_type": "execute_result"
    }
   ],
   "source": [
    "clients['purpose'].value_counts() "
   ]
  },
  {
   "cell_type": "markdown",
   "id": "2f076c63",
   "metadata": {},
   "source": [
    "Здесь точно можно было бы объединить значения по смыслу, но пока оставим все как есть."
   ]
  },
  {
   "cell_type": "markdown",
   "id": "bbb8693c",
   "metadata": {},
   "source": [
    "### Шаг 2.5. Формирование дополнительных датафреймов словарей, декомпозиция исходного датафрейма."
   ]
  },
  {
   "cell_type": "code",
   "execution_count": 24,
   "id": "46fc89e5",
   "metadata": {},
   "outputs": [],
   "source": [
    "educ_dict = clients[['education_id', 'education']] # создаем первый словарь\n",
    "fam_stat_dict = clients[['family_status', 'family_status_id']] # создаем второй словарь\n",
    "clients_log = clients.drop(['education', 'family_status'], axis=1) # остаток нашей таблицы\n"
   ]
  },
  {
   "cell_type": "code",
   "execution_count": 25,
   "id": "1ae68588",
   "metadata": {},
   "outputs": [],
   "source": [
    "educ_dict = educ_dict.drop_duplicates().reset_index(drop=True) # удалим дубликаты\n",
    "fam_stat_dict = fam_stat_dict.drop_duplicates().reset_index(drop=True) # удалим дубликаты"
   ]
  },
  {
   "cell_type": "markdown",
   "id": "97c9ecbd",
   "metadata": {},
   "source": [
    "### Шаг 2.6. Категоризация дохода."
   ]
  },
  {
   "cell_type": "code",
   "execution_count": 26,
   "id": "0753e0f2",
   "metadata": {
    "scrolled": true
   },
   "outputs": [
    {
     "data": {
      "text/html": [
       "<div>\n",
       "<style scoped>\n",
       "    .dataframe tbody tr th:only-of-type {\n",
       "        vertical-align: middle;\n",
       "    }\n",
       "\n",
       "    .dataframe tbody tr th {\n",
       "        vertical-align: top;\n",
       "    }\n",
       "\n",
       "    .dataframe thead th {\n",
       "        text-align: right;\n",
       "    }\n",
       "</style>\n",
       "<table border=\"1\" class=\"dataframe\">\n",
       "  <thead>\n",
       "    <tr style=\"text-align: right;\">\n",
       "      <th></th>\n",
       "      <th>children</th>\n",
       "      <th>days_employed</th>\n",
       "      <th>dob_years</th>\n",
       "      <th>education</th>\n",
       "      <th>education_id</th>\n",
       "      <th>family_status</th>\n",
       "      <th>family_status_id</th>\n",
       "      <th>gender</th>\n",
       "      <th>income_type</th>\n",
       "      <th>debt</th>\n",
       "      <th>total_income</th>\n",
       "      <th>purpose</th>\n",
       "      <th>total_income_category</th>\n",
       "    </tr>\n",
       "  </thead>\n",
       "  <tbody>\n",
       "    <tr>\n",
       "      <th>0</th>\n",
       "      <td>1</td>\n",
       "      <td>8437</td>\n",
       "      <td>42</td>\n",
       "      <td>высшее</td>\n",
       "      <td>0</td>\n",
       "      <td>женат / замужем</td>\n",
       "      <td>0</td>\n",
       "      <td>F</td>\n",
       "      <td>сотрудник</td>\n",
       "      <td>0</td>\n",
       "      <td>253875</td>\n",
       "      <td>покупка жилья</td>\n",
       "      <td>B</td>\n",
       "    </tr>\n",
       "    <tr>\n",
       "      <th>1</th>\n",
       "      <td>1</td>\n",
       "      <td>4024</td>\n",
       "      <td>36</td>\n",
       "      <td>среднее</td>\n",
       "      <td>1</td>\n",
       "      <td>женат / замужем</td>\n",
       "      <td>0</td>\n",
       "      <td>F</td>\n",
       "      <td>сотрудник</td>\n",
       "      <td>0</td>\n",
       "      <td>112080</td>\n",
       "      <td>приобретение автомобиля</td>\n",
       "      <td>C</td>\n",
       "    </tr>\n",
       "    <tr>\n",
       "      <th>2</th>\n",
       "      <td>0</td>\n",
       "      <td>5623</td>\n",
       "      <td>33</td>\n",
       "      <td>среднее</td>\n",
       "      <td>1</td>\n",
       "      <td>женат / замужем</td>\n",
       "      <td>0</td>\n",
       "      <td>M</td>\n",
       "      <td>сотрудник</td>\n",
       "      <td>0</td>\n",
       "      <td>145885</td>\n",
       "      <td>покупка жилья</td>\n",
       "      <td>C</td>\n",
       "    </tr>\n",
       "    <tr>\n",
       "      <th>3</th>\n",
       "      <td>3</td>\n",
       "      <td>4124</td>\n",
       "      <td>32</td>\n",
       "      <td>среднее</td>\n",
       "      <td>1</td>\n",
       "      <td>женат / замужем</td>\n",
       "      <td>0</td>\n",
       "      <td>M</td>\n",
       "      <td>сотрудник</td>\n",
       "      <td>0</td>\n",
       "      <td>267628</td>\n",
       "      <td>дополнительное образование</td>\n",
       "      <td>B</td>\n",
       "    </tr>\n",
       "    <tr>\n",
       "      <th>4</th>\n",
       "      <td>0</td>\n",
       "      <td>340266</td>\n",
       "      <td>53</td>\n",
       "      <td>среднее</td>\n",
       "      <td>1</td>\n",
       "      <td>гражданский брак</td>\n",
       "      <td>1</td>\n",
       "      <td>F</td>\n",
       "      <td>пенсионер</td>\n",
       "      <td>0</td>\n",
       "      <td>158616</td>\n",
       "      <td>сыграть свадьбу</td>\n",
       "      <td>C</td>\n",
       "    </tr>\n",
       "  </tbody>\n",
       "</table>\n",
       "</div>"
      ],
      "text/plain": [
       "   children  days_employed  dob_years education  education_id  \\\n",
       "0         1           8437         42    высшее             0   \n",
       "1         1           4024         36   среднее             1   \n",
       "2         0           5623         33   среднее             1   \n",
       "3         3           4124         32   среднее             1   \n",
       "4         0         340266         53   среднее             1   \n",
       "\n",
       "      family_status  family_status_id gender income_type  debt  total_income  \\\n",
       "0   женат / замужем                 0      F   сотрудник     0        253875   \n",
       "1   женат / замужем                 0      F   сотрудник     0        112080   \n",
       "2   женат / замужем                 0      M   сотрудник     0        145885   \n",
       "3   женат / замужем                 0      M   сотрудник     0        267628   \n",
       "4  гражданский брак                 1      F   пенсионер     0        158616   \n",
       "\n",
       "                      purpose total_income_category  \n",
       "0               покупка жилья                     B  \n",
       "1     приобретение автомобиля                     C  \n",
       "2               покупка жилья                     C  \n",
       "3  дополнительное образование                     B  \n",
       "4             сыграть свадьбу                     C  "
      ]
     },
     "execution_count": 26,
     "metadata": {},
     "output_type": "execute_result"
    }
   ],
   "source": [
    "clients['total_income'].value_counts()\n",
    "def income_category(total_income):\n",
    "    \"\"\"\n",
    "    Возвращает категорию по значению дохода, используя правила:\n",
    "    * 0–30000 — 'E';\n",
    "    * 30001–50000 — 'D';\n",
    "    * 50001–200000 — 'C';\n",
    "    * 200001–1000000 — 'B';\n",
    "    * 1000001 и выше — 'A'.\n",
    "    \"\"\"\n",
    "    if total_income <= 30000:\n",
    "        return 'E'\n",
    "    if total_income <= 50000:\n",
    "        return 'D'\n",
    "    if total_income <= 200000:\n",
    "        return 'C'\n",
    "    if total_income <= 1000000:\n",
    "        return 'B'\n",
    "    return 'A'\n",
    "\n",
    "clients['total_income_category'] = clients['total_income'].apply(income_category)\n",
    "clients.head() # проверим результат "
   ]
  },
  {
   "cell_type": "markdown",
   "id": "0e817e13",
   "metadata": {},
   "source": [
    "### Шаг 2.7. Категоризация целей кредита."
   ]
  },
  {
   "cell_type": "code",
   "execution_count": 27,
   "id": "eeb37591",
   "metadata": {},
   "outputs": [
    {
     "data": {
      "text/html": [
       "<div>\n",
       "<style scoped>\n",
       "    .dataframe tbody tr th:only-of-type {\n",
       "        vertical-align: middle;\n",
       "    }\n",
       "\n",
       "    .dataframe tbody tr th {\n",
       "        vertical-align: top;\n",
       "    }\n",
       "\n",
       "    .dataframe thead th {\n",
       "        text-align: right;\n",
       "    }\n",
       "</style>\n",
       "<table border=\"1\" class=\"dataframe\">\n",
       "  <thead>\n",
       "    <tr style=\"text-align: right;\">\n",
       "      <th></th>\n",
       "      <th>children</th>\n",
       "      <th>days_employed</th>\n",
       "      <th>dob_years</th>\n",
       "      <th>education</th>\n",
       "      <th>education_id</th>\n",
       "      <th>family_status</th>\n",
       "      <th>family_status_id</th>\n",
       "      <th>gender</th>\n",
       "      <th>income_type</th>\n",
       "      <th>debt</th>\n",
       "      <th>total_income</th>\n",
       "      <th>purpose</th>\n",
       "      <th>total_income_category</th>\n",
       "      <th>purpose_category</th>\n",
       "    </tr>\n",
       "  </thead>\n",
       "  <tbody>\n",
       "    <tr>\n",
       "      <th>0</th>\n",
       "      <td>1</td>\n",
       "      <td>8437</td>\n",
       "      <td>42</td>\n",
       "      <td>высшее</td>\n",
       "      <td>0</td>\n",
       "      <td>женат / замужем</td>\n",
       "      <td>0</td>\n",
       "      <td>F</td>\n",
       "      <td>сотрудник</td>\n",
       "      <td>0</td>\n",
       "      <td>253875</td>\n",
       "      <td>покупка жилья</td>\n",
       "      <td>B</td>\n",
       "      <td>операции с недвижимостью</td>\n",
       "    </tr>\n",
       "    <tr>\n",
       "      <th>1</th>\n",
       "      <td>1</td>\n",
       "      <td>4024</td>\n",
       "      <td>36</td>\n",
       "      <td>среднее</td>\n",
       "      <td>1</td>\n",
       "      <td>женат / замужем</td>\n",
       "      <td>0</td>\n",
       "      <td>F</td>\n",
       "      <td>сотрудник</td>\n",
       "      <td>0</td>\n",
       "      <td>112080</td>\n",
       "      <td>приобретение автомобиля</td>\n",
       "      <td>C</td>\n",
       "      <td>операции с автомобилем</td>\n",
       "    </tr>\n",
       "    <tr>\n",
       "      <th>2</th>\n",
       "      <td>0</td>\n",
       "      <td>5623</td>\n",
       "      <td>33</td>\n",
       "      <td>среднее</td>\n",
       "      <td>1</td>\n",
       "      <td>женат / замужем</td>\n",
       "      <td>0</td>\n",
       "      <td>M</td>\n",
       "      <td>сотрудник</td>\n",
       "      <td>0</td>\n",
       "      <td>145885</td>\n",
       "      <td>покупка жилья</td>\n",
       "      <td>C</td>\n",
       "      <td>операции с недвижимостью</td>\n",
       "    </tr>\n",
       "    <tr>\n",
       "      <th>3</th>\n",
       "      <td>3</td>\n",
       "      <td>4124</td>\n",
       "      <td>32</td>\n",
       "      <td>среднее</td>\n",
       "      <td>1</td>\n",
       "      <td>женат / замужем</td>\n",
       "      <td>0</td>\n",
       "      <td>M</td>\n",
       "      <td>сотрудник</td>\n",
       "      <td>0</td>\n",
       "      <td>267628</td>\n",
       "      <td>дополнительное образование</td>\n",
       "      <td>B</td>\n",
       "      <td>получение образования</td>\n",
       "    </tr>\n",
       "    <tr>\n",
       "      <th>4</th>\n",
       "      <td>0</td>\n",
       "      <td>340266</td>\n",
       "      <td>53</td>\n",
       "      <td>среднее</td>\n",
       "      <td>1</td>\n",
       "      <td>гражданский брак</td>\n",
       "      <td>1</td>\n",
       "      <td>F</td>\n",
       "      <td>пенсионер</td>\n",
       "      <td>0</td>\n",
       "      <td>158616</td>\n",
       "      <td>сыграть свадьбу</td>\n",
       "      <td>C</td>\n",
       "      <td>проведение свадьбы</td>\n",
       "    </tr>\n",
       "    <tr>\n",
       "      <th>5</th>\n",
       "      <td>0</td>\n",
       "      <td>926</td>\n",
       "      <td>27</td>\n",
       "      <td>высшее</td>\n",
       "      <td>0</td>\n",
       "      <td>гражданский брак</td>\n",
       "      <td>1</td>\n",
       "      <td>M</td>\n",
       "      <td>компаньон</td>\n",
       "      <td>0</td>\n",
       "      <td>255763</td>\n",
       "      <td>покупка жилья</td>\n",
       "      <td>B</td>\n",
       "      <td>операции с недвижимостью</td>\n",
       "    </tr>\n",
       "    <tr>\n",
       "      <th>6</th>\n",
       "      <td>0</td>\n",
       "      <td>2879</td>\n",
       "      <td>43</td>\n",
       "      <td>высшее</td>\n",
       "      <td>0</td>\n",
       "      <td>женат / замужем</td>\n",
       "      <td>0</td>\n",
       "      <td>F</td>\n",
       "      <td>компаньон</td>\n",
       "      <td>0</td>\n",
       "      <td>240525</td>\n",
       "      <td>операции с жильем</td>\n",
       "      <td>B</td>\n",
       "      <td>операции с недвижимостью</td>\n",
       "    </tr>\n",
       "    <tr>\n",
       "      <th>7</th>\n",
       "      <td>0</td>\n",
       "      <td>152</td>\n",
       "      <td>50</td>\n",
       "      <td>среднее</td>\n",
       "      <td>1</td>\n",
       "      <td>женат / замужем</td>\n",
       "      <td>0</td>\n",
       "      <td>M</td>\n",
       "      <td>сотрудник</td>\n",
       "      <td>0</td>\n",
       "      <td>135823</td>\n",
       "      <td>образование</td>\n",
       "      <td>C</td>\n",
       "      <td>получение образования</td>\n",
       "    </tr>\n",
       "    <tr>\n",
       "      <th>8</th>\n",
       "      <td>2</td>\n",
       "      <td>6929</td>\n",
       "      <td>35</td>\n",
       "      <td>высшее</td>\n",
       "      <td>0</td>\n",
       "      <td>гражданский брак</td>\n",
       "      <td>1</td>\n",
       "      <td>F</td>\n",
       "      <td>сотрудник</td>\n",
       "      <td>0</td>\n",
       "      <td>95856</td>\n",
       "      <td>на проведение свадьбы</td>\n",
       "      <td>C</td>\n",
       "      <td>проведение свадьбы</td>\n",
       "    </tr>\n",
       "    <tr>\n",
       "      <th>9</th>\n",
       "      <td>0</td>\n",
       "      <td>2188</td>\n",
       "      <td>41</td>\n",
       "      <td>среднее</td>\n",
       "      <td>1</td>\n",
       "      <td>женат / замужем</td>\n",
       "      <td>0</td>\n",
       "      <td>M</td>\n",
       "      <td>сотрудник</td>\n",
       "      <td>0</td>\n",
       "      <td>144425</td>\n",
       "      <td>покупка жилья для семьи</td>\n",
       "      <td>C</td>\n",
       "      <td>операции с недвижимостью</td>\n",
       "    </tr>\n",
       "    <tr>\n",
       "      <th>10</th>\n",
       "      <td>2</td>\n",
       "      <td>4171</td>\n",
       "      <td>36</td>\n",
       "      <td>высшее</td>\n",
       "      <td>0</td>\n",
       "      <td>женат / замужем</td>\n",
       "      <td>0</td>\n",
       "      <td>M</td>\n",
       "      <td>компаньон</td>\n",
       "      <td>0</td>\n",
       "      <td>113943</td>\n",
       "      <td>покупка недвижимости</td>\n",
       "      <td>C</td>\n",
       "      <td>операции с недвижимостью</td>\n",
       "    </tr>\n",
       "    <tr>\n",
       "      <th>11</th>\n",
       "      <td>0</td>\n",
       "      <td>792</td>\n",
       "      <td>40</td>\n",
       "      <td>среднее</td>\n",
       "      <td>1</td>\n",
       "      <td>женат / замужем</td>\n",
       "      <td>0</td>\n",
       "      <td>F</td>\n",
       "      <td>сотрудник</td>\n",
       "      <td>0</td>\n",
       "      <td>77069</td>\n",
       "      <td>покупка коммерческой недвижимости</td>\n",
       "      <td>C</td>\n",
       "      <td>операции с недвижимостью</td>\n",
       "    </tr>\n",
       "    <tr>\n",
       "      <th>12</th>\n",
       "      <td>0</td>\n",
       "      <td>2194</td>\n",
       "      <td>65</td>\n",
       "      <td>среднее</td>\n",
       "      <td>1</td>\n",
       "      <td>гражданский брак</td>\n",
       "      <td>1</td>\n",
       "      <td>M</td>\n",
       "      <td>пенсионер</td>\n",
       "      <td>0</td>\n",
       "      <td>145017</td>\n",
       "      <td>сыграть свадьбу</td>\n",
       "      <td>C</td>\n",
       "      <td>проведение свадьбы</td>\n",
       "    </tr>\n",
       "    <tr>\n",
       "      <th>13</th>\n",
       "      <td>0</td>\n",
       "      <td>1846</td>\n",
       "      <td>54</td>\n",
       "      <td>неоконченное высшее</td>\n",
       "      <td>2</td>\n",
       "      <td>женат / замужем</td>\n",
       "      <td>0</td>\n",
       "      <td>F</td>\n",
       "      <td>сотрудник</td>\n",
       "      <td>0</td>\n",
       "      <td>130458</td>\n",
       "      <td>приобретение автомобиля</td>\n",
       "      <td>C</td>\n",
       "      <td>операции с автомобилем</td>\n",
       "    </tr>\n",
       "    <tr>\n",
       "      <th>14</th>\n",
       "      <td>0</td>\n",
       "      <td>1844</td>\n",
       "      <td>56</td>\n",
       "      <td>высшее</td>\n",
       "      <td>0</td>\n",
       "      <td>гражданский брак</td>\n",
       "      <td>1</td>\n",
       "      <td>F</td>\n",
       "      <td>компаньон</td>\n",
       "      <td>1</td>\n",
       "      <td>165127</td>\n",
       "      <td>покупка жилой недвижимости</td>\n",
       "      <td>C</td>\n",
       "      <td>операции с недвижимостью</td>\n",
       "    </tr>\n",
       "  </tbody>\n",
       "</table>\n",
       "</div>"
      ],
      "text/plain": [
       "    children  days_employed  dob_years            education  education_id  \\\n",
       "0          1           8437         42               высшее             0   \n",
       "1          1           4024         36              среднее             1   \n",
       "2          0           5623         33              среднее             1   \n",
       "3          3           4124         32              среднее             1   \n",
       "4          0         340266         53              среднее             1   \n",
       "5          0            926         27               высшее             0   \n",
       "6          0           2879         43               высшее             0   \n",
       "7          0            152         50              среднее             1   \n",
       "8          2           6929         35               высшее             0   \n",
       "9          0           2188         41              среднее             1   \n",
       "10         2           4171         36               высшее             0   \n",
       "11         0            792         40              среднее             1   \n",
       "12         0           2194         65              среднее             1   \n",
       "13         0           1846         54  неоконченное высшее             2   \n",
       "14         0           1844         56               высшее             0   \n",
       "\n",
       "       family_status  family_status_id gender income_type  debt  total_income  \\\n",
       "0    женат / замужем                 0      F   сотрудник     0        253875   \n",
       "1    женат / замужем                 0      F   сотрудник     0        112080   \n",
       "2    женат / замужем                 0      M   сотрудник     0        145885   \n",
       "3    женат / замужем                 0      M   сотрудник     0        267628   \n",
       "4   гражданский брак                 1      F   пенсионер     0        158616   \n",
       "5   гражданский брак                 1      M   компаньон     0        255763   \n",
       "6    женат / замужем                 0      F   компаньон     0        240525   \n",
       "7    женат / замужем                 0      M   сотрудник     0        135823   \n",
       "8   гражданский брак                 1      F   сотрудник     0         95856   \n",
       "9    женат / замужем                 0      M   сотрудник     0        144425   \n",
       "10   женат / замужем                 0      M   компаньон     0        113943   \n",
       "11   женат / замужем                 0      F   сотрудник     0         77069   \n",
       "12  гражданский брак                 1      M   пенсионер     0        145017   \n",
       "13   женат / замужем                 0      F   сотрудник     0        130458   \n",
       "14  гражданский брак                 1      F   компаньон     1        165127   \n",
       "\n",
       "                              purpose total_income_category  \\\n",
       "0                       покупка жилья                     B   \n",
       "1             приобретение автомобиля                     C   \n",
       "2                       покупка жилья                     C   \n",
       "3          дополнительное образование                     B   \n",
       "4                     сыграть свадьбу                     C   \n",
       "5                       покупка жилья                     B   \n",
       "6                   операции с жильем                     B   \n",
       "7                         образование                     C   \n",
       "8               на проведение свадьбы                     C   \n",
       "9             покупка жилья для семьи                     C   \n",
       "10               покупка недвижимости                     C   \n",
       "11  покупка коммерческой недвижимости                     C   \n",
       "12                    сыграть свадьбу                     C   \n",
       "13            приобретение автомобиля                     C   \n",
       "14         покупка жилой недвижимости                     C   \n",
       "\n",
       "            purpose_category  \n",
       "0   операции с недвижимостью  \n",
       "1     операции с автомобилем  \n",
       "2   операции с недвижимостью  \n",
       "3      получение образования  \n",
       "4         проведение свадьбы  \n",
       "5   операции с недвижимостью  \n",
       "6   операции с недвижимостью  \n",
       "7      получение образования  \n",
       "8         проведение свадьбы  \n",
       "9   операции с недвижимостью  \n",
       "10  операции с недвижимостью  \n",
       "11  операции с недвижимостью  \n",
       "12        проведение свадьбы  \n",
       "13    операции с автомобилем  \n",
       "14  операции с недвижимостью  "
      ]
     },
     "execution_count": 27,
     "metadata": {},
     "output_type": "execute_result"
    }
   ],
   "source": [
    "clients['purpose'].value_counts()\n",
    "def purpose_category(purpose):\n",
    "    \"\"\"\n",
    "    Функция, которая на остовании данных из столбца 'purpose' определит, в какую категорию попадет значение.\n",
    "    Категории:\n",
    "    * 'операции с автомобилем',\n",
    "    * 'операции с недвижимостью',\n",
    "    * 'проведение свадьбы',\n",
    "    * 'получение образования'\n",
    "    \"\"\"\n",
    "    if 'автомобил' in purpose:\n",
    "        return 'операции с автомобилем'\n",
    "    if 'свадьб' in purpose:\n",
    "        return 'проведение свадьбы'\n",
    "    if 'образован' in purpose:\n",
    "        return 'получение образования'\n",
    "    elif 'жил' or 'недвижимост' in purpose:\n",
    "        return 'операции с недвижимостью'\n",
    "    \n",
    "\n",
    "\n",
    "clients['purpose_category'] = clients['purpose'].apply(purpose_category)\n",
    "clients.head(15) # проверим результат"
   ]
  },
  {
   "cell_type": "markdown",
   "id": "c707f18c",
   "metadata": {},
   "source": [
    "# Ответы на вопросы"
   ]
  },
  {
   "cell_type": "markdown",
   "id": "fc28c9c0",
   "metadata": {},
   "source": [
    "**1. Есть ли зависимость между количеством детей и возвратом кредита в срок?**"
   ]
  },
  {
   "cell_type": "code",
   "execution_count": 28,
   "id": "d1d986e6",
   "metadata": {},
   "outputs": [
    {
     "data": {
      "text/html": [
       "<div>\n",
       "<style scoped>\n",
       "    .dataframe tbody tr th:only-of-type {\n",
       "        vertical-align: middle;\n",
       "    }\n",
       "\n",
       "    .dataframe tbody tr th {\n",
       "        vertical-align: top;\n",
       "    }\n",
       "\n",
       "    .dataframe thead th {\n",
       "        text-align: right;\n",
       "    }\n",
       "</style>\n",
       "<table border=\"1\" class=\"dataframe\">\n",
       "  <thead>\n",
       "    <tr style=\"text-align: right;\">\n",
       "      <th></th>\n",
       "      <th>children</th>\n",
       "      <th>count</th>\n",
       "      <th>mean</th>\n",
       "    </tr>\n",
       "  </thead>\n",
       "  <tbody>\n",
       "    <tr>\n",
       "      <th>0</th>\n",
       "      <td>0</td>\n",
       "      <td>14230</td>\n",
       "      <td>0.075334</td>\n",
       "    </tr>\n",
       "    <tr>\n",
       "      <th>1</th>\n",
       "      <td>1</td>\n",
       "      <td>4809</td>\n",
       "      <td>0.092327</td>\n",
       "    </tr>\n",
       "    <tr>\n",
       "      <th>2</th>\n",
       "      <td>2</td>\n",
       "      <td>2052</td>\n",
       "      <td>0.094542</td>\n",
       "    </tr>\n",
       "    <tr>\n",
       "      <th>3</th>\n",
       "      <td>3</td>\n",
       "      <td>330</td>\n",
       "      <td>0.081818</td>\n",
       "    </tr>\n",
       "    <tr>\n",
       "      <th>4</th>\n",
       "      <td>4</td>\n",
       "      <td>41</td>\n",
       "      <td>0.097561</td>\n",
       "    </tr>\n",
       "    <tr>\n",
       "      <th>5</th>\n",
       "      <td>5</td>\n",
       "      <td>9</td>\n",
       "      <td>0.000000</td>\n",
       "    </tr>\n",
       "  </tbody>\n",
       "</table>\n",
       "</div>"
      ],
      "text/plain": [
       "   children  count      mean\n",
       "0         0  14230  0.075334\n",
       "1         1   4809  0.092327\n",
       "2         2   2052  0.094542\n",
       "3         3    330  0.081818\n",
       "4         4     41  0.097561\n",
       "5         5      9  0.000000"
      ]
     },
     "execution_count": 28,
     "metadata": {},
     "output_type": "execute_result"
    }
   ],
   "source": [
    "clients.groupby('children')['debt'].agg(['count', 'mean']).reset_index()\n",
    "# можно вывести эту же таблицу с помощью pivot_table, но groupby проще\n",
    "# clients.pivot_table(index='children', values='debt', aggfunc=['count', 'mean'])"
   ]
  },
  {
   "cell_type": "code",
   "execution_count": 29,
   "id": "b8f29ebe",
   "metadata": {},
   "outputs": [
    {
     "data": {
      "text/plain": [
       "<AxesSubplot:xlabel='children'>"
      ]
     },
     "execution_count": 29,
     "metadata": {},
     "output_type": "execute_result"
    },
    {
     "data": {
      "image/png": "[encoded data removed]",
      "text/plain": [
       "<Figure size 640x480 with 1 Axes>"
      ]
     },
     "metadata": {},
     "output_type": "display_data"
    }
   ],
   "source": [
    "clients.groupby('children')['debt'].agg('mean').plot() # для наглядности посмотрим на графике"
   ]
  },
  {
   "cell_type": "markdown",
   "id": "2e4af70e",
   "metadata": {},
   "source": [
    "В целом, с увеличением количества детей мы видим, что увеличивается и количество просроченных кредитов. Если для семей без детей этот показатель равен 7.5%, то в семье, например, с двумя детьми - уже 9.5%. Из этой тенденции выбиваются семьи с тремя детьми: для них этот показатель равен 8.1% (возможно, мы не можем адекватно оценивать данные по семьям с тремя и более детьми, так как их количество в выборке недостаточное)."
   ]
  },
  {
   "cell_type": "markdown",
   "id": "f420eafa",
   "metadata": {},
   "source": [
    "**2. Есть ли зависимость между семейным положением и возвратом кредита в срок?**"
   ]
  },
  {
   "cell_type": "code",
   "execution_count": 30,
   "id": "1b3b5de3",
   "metadata": {},
   "outputs": [
    {
     "data": {
      "text/html": [
       "<div>\n",
       "<style scoped>\n",
       "    .dataframe tbody tr th:only-of-type {\n",
       "        vertical-align: middle;\n",
       "    }\n",
       "\n",
       "    .dataframe tbody tr th {\n",
       "        vertical-align: top;\n",
       "    }\n",
       "\n",
       "    .dataframe thead th {\n",
       "        text-align: right;\n",
       "    }\n",
       "</style>\n",
       "<table border=\"1\" class=\"dataframe\">\n",
       "  <thead>\n",
       "    <tr style=\"text-align: right;\">\n",
       "      <th></th>\n",
       "      <th>family_status</th>\n",
       "      <th>count</th>\n",
       "      <th>mean</th>\n",
       "    </tr>\n",
       "  </thead>\n",
       "  <tbody>\n",
       "    <tr>\n",
       "      <th>1</th>\n",
       "      <td>вдовец / вдова</td>\n",
       "      <td>959</td>\n",
       "      <td>0.065693</td>\n",
       "    </tr>\n",
       "    <tr>\n",
       "      <th>0</th>\n",
       "      <td>в разводе</td>\n",
       "      <td>1195</td>\n",
       "      <td>0.071130</td>\n",
       "    </tr>\n",
       "    <tr>\n",
       "      <th>3</th>\n",
       "      <td>женат / замужем</td>\n",
       "      <td>12344</td>\n",
       "      <td>0.075421</td>\n",
       "    </tr>\n",
       "    <tr>\n",
       "      <th>2</th>\n",
       "      <td>гражданский брак</td>\n",
       "      <td>4163</td>\n",
       "      <td>0.093202</td>\n",
       "    </tr>\n",
       "    <tr>\n",
       "      <th>4</th>\n",
       "      <td>не женат / не замужем</td>\n",
       "      <td>2810</td>\n",
       "      <td>0.097509</td>\n",
       "    </tr>\n",
       "  </tbody>\n",
       "</table>\n",
       "</div>"
      ],
      "text/plain": [
       "           family_status  count      mean\n",
       "1         вдовец / вдова    959  0.065693\n",
       "0              в разводе   1195  0.071130\n",
       "3        женат / замужем  12344  0.075421\n",
       "2       гражданский брак   4163  0.093202\n",
       "4  не женат / не замужем   2810  0.097509"
      ]
     },
     "execution_count": 30,
     "metadata": {},
     "output_type": "execute_result"
    }
   ],
   "source": [
    "t = clients.groupby('family_status')['debt'].agg(['count', 'mean']).reset_index()\n",
    "t.sort_values(by='mean')"
   ]
  },
  {
   "cell_type": "markdown",
   "id": "3188fb4d",
   "metadata": {},
   "source": [
    "Мы видим, что самыми надежными категориями клиентов являются вдовцы/вдовы (6.6% задолженностей по кредиту), в разводе (7.1%) и женатые/замужние (7.5%). Клиенты, состоящие в гражданском браке и неженатые/незамужние имеют задолженности намного чаще (9.3% и 9.8% соответственно). Можно сделать предположение, что столкновение с институтом брака делает людей более ответственными. "
   ]
  },
  {
   "cell_type": "markdown",
   "id": "2e0c58c4",
   "metadata": {},
   "source": [
    "**3. Есть ли зависимость между уровнем дохода и возвратом кредита в срок?**"
   ]
  },
  {
   "cell_type": "code",
   "execution_count": 31,
   "id": "6039d4bf",
   "metadata": {},
   "outputs": [
    {
     "data": {
      "text/html": [
       "<div>\n",
       "<style scoped>\n",
       "    .dataframe tbody tr th:only-of-type {\n",
       "        vertical-align: middle;\n",
       "    }\n",
       "\n",
       "    .dataframe tbody tr th {\n",
       "        vertical-align: top;\n",
       "    }\n",
       "\n",
       "    .dataframe thead th {\n",
       "        text-align: right;\n",
       "    }\n",
       "</style>\n",
       "<table border=\"1\" class=\"dataframe\">\n",
       "  <thead>\n",
       "    <tr style=\"text-align: right;\">\n",
       "      <th></th>\n",
       "      <th>total_income_category</th>\n",
       "      <th>count</th>\n",
       "      <th>mean</th>\n",
       "    </tr>\n",
       "  </thead>\n",
       "  <tbody>\n",
       "    <tr>\n",
       "      <th>0</th>\n",
       "      <td>A</td>\n",
       "      <td>25</td>\n",
       "      <td>0.080000</td>\n",
       "    </tr>\n",
       "    <tr>\n",
       "      <th>1</th>\n",
       "      <td>B</td>\n",
       "      <td>5041</td>\n",
       "      <td>0.070621</td>\n",
       "    </tr>\n",
       "    <tr>\n",
       "      <th>2</th>\n",
       "      <td>C</td>\n",
       "      <td>16033</td>\n",
       "      <td>0.084825</td>\n",
       "    </tr>\n",
       "    <tr>\n",
       "      <th>3</th>\n",
       "      <td>D</td>\n",
       "      <td>350</td>\n",
       "      <td>0.060000</td>\n",
       "    </tr>\n",
       "    <tr>\n",
       "      <th>4</th>\n",
       "      <td>E</td>\n",
       "      <td>22</td>\n",
       "      <td>0.090909</td>\n",
       "    </tr>\n",
       "  </tbody>\n",
       "</table>\n",
       "</div>"
      ],
      "text/plain": [
       "  total_income_category  count      mean\n",
       "0                     A     25  0.080000\n",
       "1                     B   5041  0.070621\n",
       "2                     C  16033  0.084825\n",
       "3                     D    350  0.060000\n",
       "4                     E     22  0.090909"
      ]
     },
     "execution_count": 31,
     "metadata": {},
     "output_type": "execute_result"
    }
   ],
   "source": [
    "clients.groupby('total_income_category')['debt'].agg(['count', 'mean']).reset_index()\n",
    "# Посмотрим зависимость между уровнем дохода по категориям, сформированным ранее\n",
    "# Категории: \n",
    "# A 1000001 и выше\n",
    "# B 200001–1000000\n",
    "# C 50001–200000\n",
    "# D 30001–50000\n",
    "# E 0–30000 "
   ]
  },
  {
   "cell_type": "markdown",
   "id": "b9ee7738",
   "metadata": {},
   "source": [
    "Сделать однозначный вывод о зависимости между уровнем дохода (по категориям) и возвратом кредита в срок не представляется возможным. Клиентов с зарплатой выше 1 млн рублей и ниже 50 тыс рублей в данных недостаточно для анализа. Остается лишь две категории: клиенты с высоким доходом (от 200 тыс до 1 млн) возвращают кредит в 7% случаев; со средним доходом (от 50 тыс до 200 тыс рублей) - в 8.5% случаев."
   ]
  },
  {
   "cell_type": "markdown",
   "id": "f255ffb6",
   "metadata": {},
   "source": [
    "**4. Как разные цели кредита влияют на его возврат в срок?**"
   ]
  },
  {
   "cell_type": "code",
   "execution_count": 32,
   "id": "4be99517",
   "metadata": {},
   "outputs": [
    {
     "data": {
      "text/html": [
       "<div>\n",
       "<style scoped>\n",
       "    .dataframe tbody tr th:only-of-type {\n",
       "        vertical-align: middle;\n",
       "    }\n",
       "\n",
       "    .dataframe tbody tr th {\n",
       "        vertical-align: top;\n",
       "    }\n",
       "\n",
       "    .dataframe thead th {\n",
       "        text-align: right;\n",
       "    }\n",
       "</style>\n",
       "<table border=\"1\" class=\"dataframe\">\n",
       "  <thead>\n",
       "    <tr style=\"text-align: right;\">\n",
       "      <th></th>\n",
       "      <th>purpose_category</th>\n",
       "      <th>count</th>\n",
       "      <th>mean</th>\n",
       "    </tr>\n",
       "  </thead>\n",
       "  <tbody>\n",
       "    <tr>\n",
       "      <th>1</th>\n",
       "      <td>операции с недвижимостью</td>\n",
       "      <td>10814</td>\n",
       "      <td>0.072314</td>\n",
       "    </tr>\n",
       "    <tr>\n",
       "      <th>3</th>\n",
       "      <td>проведение свадьбы</td>\n",
       "      <td>2335</td>\n",
       "      <td>0.079657</td>\n",
       "    </tr>\n",
       "    <tr>\n",
       "      <th>2</th>\n",
       "      <td>получение образования</td>\n",
       "      <td>4014</td>\n",
       "      <td>0.092177</td>\n",
       "    </tr>\n",
       "    <tr>\n",
       "      <th>0</th>\n",
       "      <td>операции с автомобилем</td>\n",
       "      <td>4308</td>\n",
       "      <td>0.093547</td>\n",
       "    </tr>\n",
       "  </tbody>\n",
       "</table>\n",
       "</div>"
      ],
      "text/plain": [
       "           purpose_category  count      mean\n",
       "1  операции с недвижимостью  10814  0.072314\n",
       "3        проведение свадьбы   2335  0.079657\n",
       "2     получение образования   4014  0.092177\n",
       "0    операции с автомобилем   4308  0.093547"
      ]
     },
     "execution_count": 32,
     "metadata": {},
     "output_type": "execute_result"
    }
   ],
   "source": [
    "t = clients.groupby('purpose_category')['debt'].agg(['count', 'mean']).reset_index()\n",
    "t.sort_values(by='mean')"
   ]
  },
  {
   "cell_type": "markdown",
   "id": "0052f6a8",
   "metadata": {},
   "source": [
    "Кредит на покупку недвижимости имеет самый маленький показатель по задолженности - 7.2%. Далее идут свадьба (8%), образование (9.2%), и покупка автомобиля (9.4%). Можно сделать предположение, что чем больше сумма кредита, тем более ответственно кредиторы относятся к займу. "
   ]
  },
  {
   "cell_type": "markdown",
   "id": "bfbe1235",
   "metadata": {},
   "source": [
    "# Общий вывод:"
   ]
  },
  {
   "cell_type": "markdown",
   "id": "5e75d546",
   "metadata": {},
   "source": [
    "В ходе работы была проанализировна статистика о платёжеспособности клиентов, проведена предобработка данных (заполнены пропуски, обработаны артефакты и дубликаты, изменены типы данных, проведена категоризация некоторых переменных) и получены ответы на поставленные вопросы.\n",
    "\n",
    "*Основные выводы:*\n",
    "\n",
    "* Количество детей негативно влияет на вероятность выплатить кредит в срок;\n",
    "* Люди, состоящие в браке в настоящий момент или в прошлом, являются более надежными заемщиками, чем незамужние/неженатые или живующие в гражданском браке;\n",
    "* Зависимость между заработной платой и вероятностью задолженности не выявлена;\n",
    "* Чем больше сумма кредита, тем выше способность потенциального заёмщика вернуть кредит банку в срок.\n",
    "\n"
   ]
  }
 ],
 "metadata": {
  "kernelspec": {
   "display_name": "Python 3 (ipykernel)",
   "language": "python",
   "name": "python3"
  },
  "language_info": {
   "codemirror_mode": {
    "name": "ipython",
    "version": 3
   },
   "file_extension": ".py",
   "mimetype": "text/x-python",
   "name": "python",
   "nbconvert_exporter": "python",
   "pygments_lexer": "ipython3",
   "version": "3.9.13"
  }
 },
 "nbformat": 4,
 "nbformat_minor": 5
}
